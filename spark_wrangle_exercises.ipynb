{
 "cells": [
  {
   "cell_type": "markdown",
   "id": "6f50f634-2cc9-43c8-9ed6-03bdbf9fe009",
   "metadata": {},
   "source": [
    "# Data Wrangling"
   ]
  },
  {
   "cell_type": "markdown",
   "id": "d501ba81-30b2-4b95-b6a4-0b58145108e5",
   "metadata": {},
   "source": [
    "# Exercises\n",
    "Data Acquisition\n",
    "These exercises should go in a notebook or script named wrangle. Add, commit, and push your changes.\n",
    "\n",
    "This exercises use the cases, dept, and source tables from the 311_data on the Codeup MySQL server."
   ]
  },
  {
   "cell_type": "markdown",
   "id": "abbb4626-8b8b-4319-86cc-68c3edbaa60e",
   "metadata": {},
   "source": [
    "# Imports"
   ]
  },
  {
   "cell_type": "code",
   "execution_count": 101,
   "id": "37a78550-1c5d-4b4a-be73-ad9afb1f7678",
   "metadata": {},
   "outputs": [],
   "source": [
    "# standard imports\n",
    "import pandas as pd\n",
    "\n",
    "\n",
    "import os\n",
    "import pyspark\n",
    "from pydataset import data\n",
    "from pyspark.sql import SparkSession\n",
    "from pyspark.sql.functions import *\n",
    "from pyspark.sql.types import StructType, StructField, StringType\n",
    "from pyspark.sql.functions import month, year, quarter, round\n",
    "\n",
    "\n",
    "#create the spark session\n",
    "spark = pyspark.sql.SparkSession.builder.getOrCreate()\n",
    "\n",
    "# my imp\n",
    "from env import get_db_url\n",
    "\n",
    "# ignore warnings\n",
    "import warnings\n",
    "warnings.filterwarnings('ignore')"
   ]
  },
  {
   "cell_type": "code",
   "execution_count": 2,
   "id": "90708612-af15-4401-ab07-67edc607ba93",
   "metadata": {},
   "outputs": [],
   "source": [
    "url = get_db_url(\"311_data\")"
   ]
  },
  {
   "cell_type": "markdown",
   "id": "39131ee2-460f-449f-b79f-6e20153abc49",
   "metadata": {},
   "source": [
    "### 1. Read the case, department, and source data into their own spark dataframes."
   ]
  },
  {
   "cell_type": "code",
   "execution_count": 3,
   "id": "04ff75fe-20d8-499f-92e4-37dd1022fc1e",
   "metadata": {},
   "outputs": [
    {
     "name": "stderr",
     "output_type": "stream",
     "text": [
      "23/07/05 14:56:50 WARN TaskSetManager: Stage 0 contains a task of very large size (12597 KiB). The maximum recommended task size is 1000 KiB.\n",
      "23/07/05 14:56:54 WARN PythonRunner: Detected deadlock while completing task 0.0 in stage 0 (TID 0): Attempting to kill Python Worker\n",
      "                                                                                \r"
     ]
    },
    {
     "name": "stdout",
     "output_type": "stream",
     "text": [
      "+----------+----------------+----------------+------------+---------+-------------+-----------+----------------+--------------------+-----------+-----------+---------+--------------------+----------------+\n",
      "|   case_id|case_opened_date|case_closed_date|SLA_due_date|case_late|num_days_late|case_closed|   dept_division|service_request_type|   SLA_days|case_status|source_id|     request_address|council_district|\n",
      "+----------+----------------+----------------+------------+---------+-------------+-----------+----------------+--------------------+-----------+-----------+---------+--------------------+----------------+\n",
      "|1014127332|     1/1/18 0:42|    1/1/18 12:29|9/26/20 0:42|       NO| -998.5087616|        YES|Field Operations|        Stray Animal|      999.0|     Closed| svcCRMLS|2315  EL PASO ST,...|               5|\n",
      "|1014127333|     1/1/18 0:46|     1/3/18 8:11| 1/5/18 8:30|       NO| -2.012604167|        YES|     Storm Water|Removal Of Obstru...|4.322222222|     Closed| svcCRMSS|2215  GOLIAD RD, ...|               3|\n",
      "|1014127334|     1/1/18 0:48|     1/2/18 7:57| 1/5/18 8:30|       NO| -3.022337963|        YES|     Storm Water|Removal Of Obstru...|4.320729167|     Closed| svcCRMSS|102  PALFREY ST W...|               3|\n",
      "|1014127335|     1/1/18 1:29|     1/2/18 8:13|1/17/18 8:30|       NO| -15.01148148|        YES|Code Enforcement|Front Or Side Yar...|16.29188657|     Closed| svcCRMSS|114  LA GARDE ST,...|               3|\n",
      "+----------+----------------+----------------+------------+---------+-------------+-----------+----------------+--------------------+-----------+-----------+---------+--------------------+----------------+\n",
      "only showing top 4 rows\n",
      "\n"
     ]
    }
   ],
   "source": [
    "query = \"\"\"SELECT * FROM cases\"\"\"\n",
    "cases = pd.read_sql(query, url)\n",
    "cases = spark.createDataFrame(cases)\n",
    "cases.show(4)"
   ]
  },
  {
   "cell_type": "code",
   "execution_count": 4,
   "id": "b85c8b83-66a6-403e-880f-5a04e90d8c2b",
   "metadata": {},
   "outputs": [
    {
     "name": "stdout",
     "output_type": "stream",
     "text": [
      "+--------------------+--------------------+----------------------+-------------------+\n",
      "|       dept_division|           dept_name|standardized_dept_name|dept_subject_to_SLA|\n",
      "+--------------------+--------------------+----------------------+-------------------+\n",
      "|     311 Call Center|    Customer Service|      Customer Service|                YES|\n",
      "|               Brush|Solid Waste Manag...|           Solid Waste|                YES|\n",
      "|     Clean and Green|Parks and Recreation|    Parks & Recreation|                YES|\n",
      "|Clean and Green N...|Parks and Recreation|    Parks & Recreation|                YES|\n",
      "+--------------------+--------------------+----------------------+-------------------+\n",
      "only showing top 4 rows\n",
      "\n"
     ]
    }
   ],
   "source": [
    "query = \"\"\"SELECT * FROM dept\"\"\"\n",
    "dept = pd.read_sql(query, url)\n",
    "dept = spark.createDataFrame(dept)\n",
    "dept.show(4)"
   ]
  },
  {
   "cell_type": "code",
   "execution_count": 5,
   "id": "3dcf63ef-4184-464f-acc6-655f054842a0",
   "metadata": {},
   "outputs": [
    {
     "name": "stdout",
     "output_type": "stream",
     "text": [
      "+-----+---------+----------------+\n",
      "|index|source_id| source_username|\n",
      "+-----+---------+----------------+\n",
      "|    0|   100137|Merlene Blodgett|\n",
      "|    1|   103582|     Carmen Cura|\n",
      "|    2|   106463| Richard Sanchez|\n",
      "|    3|   119403|  Betty De Hoyos|\n",
      "+-----+---------+----------------+\n",
      "only showing top 4 rows\n",
      "\n"
     ]
    }
   ],
   "source": [
    "query = \"\"\"SELECT * FROM source\"\"\"\n",
    "source = pd.read_sql(query, url)\n",
    "source = spark.createDataFrame(source)\n",
    "source.show(4)"
   ]
  },
  {
   "cell_type": "markdown",
   "id": "1e40619f-6673-4ed6-9c20-a4492a455073",
   "metadata": {},
   "source": [
    "### 2. Let's see how writing to the local disk works in spark:\n",
    "\n",
    " >• Write the code necessary to store the source data in both csv and json format, store these as sources_csv and sources_json     \n",
    " >• Inspect your folder structure. What do you notice?    "
   ]
  },
  {
   "cell_type": "markdown",
   "id": "3a13ff29-f290-454d-9a14-7230ab05c643",
   "metadata": {},
   "source": [
    "#### write file to json"
   ]
  },
  {
   "cell_type": "code",
   "execution_count": 6,
   "id": "739598d3-fa79-4d07-b879-cfe594f1e1ef",
   "metadata": {},
   "outputs": [
    {
     "name": "stderr",
     "output_type": "stream",
     "text": [
      "23/07/05 14:56:58 WARN TaskSetManager: Stage 4 contains a task of very large size (12597 KiB). The maximum recommended task size is 1000 KiB.\n",
      "                                                                                \r"
     ]
    }
   ],
   "source": [
    "cases.write.json('cases_json', mode='overwrite')"
   ]
  },
  {
   "cell_type": "code",
   "execution_count": 7,
   "id": "3f25475a-9754-4c8b-893f-d4e8a69cc423",
   "metadata": {},
   "outputs": [],
   "source": [
    "dept.write.json('dept_json', mode='overwrite')"
   ]
  },
  {
   "cell_type": "code",
   "execution_count": 8,
   "id": "eda68fa0-eac2-4f39-93cd-4de21f471140",
   "metadata": {},
   "outputs": [],
   "source": [
    "source.write.json('source_json', mode='overwrite')"
   ]
  },
  {
   "cell_type": "markdown",
   "id": "56119d8e-9ddc-4ab3-bccf-410c05eab530",
   "metadata": {},
   "source": [
    "#### write dataframe to csv"
   ]
  },
  {
   "cell_type": "code",
   "execution_count": 9,
   "id": "8c93cbae-5c07-4c37-b538-390858af323c",
   "metadata": {},
   "outputs": [
    {
     "name": "stderr",
     "output_type": "stream",
     "text": [
      "23/07/05 14:57:06 WARN TaskSetManager: Stage 7 contains a task of very large size (12597 KiB). The maximum recommended task size is 1000 KiB.\n",
      "                                                                                \r"
     ]
    }
   ],
   "source": [
    "# Or...\n",
    "(\n",
    "    cases.write.format('csv')\n",
    "    .mode('overwrite')\n",
    "    .option('header', True)\n",
    "    .save('cases_csv')\n",
    ")"
   ]
  },
  {
   "cell_type": "code",
   "execution_count": 10,
   "id": "43d03016-8b88-4982-9d84-0c3a6e4c1c4a",
   "metadata": {},
   "outputs": [],
   "source": [
    "# Or...\n",
    "(\n",
    "    dept.write.format('csv')\n",
    "    .mode('overwrite')\n",
    "    .option('header', True)\n",
    "    .save('dept_csv')\n",
    ")"
   ]
  },
  {
   "cell_type": "code",
   "execution_count": 11,
   "id": "64c54548-42f2-478a-8ecc-16ee189a21a2",
   "metadata": {},
   "outputs": [],
   "source": [
    "# Or...\n",
    "(\n",
    "    source.write.format('csv')\n",
    "    .mode('overwrite')\n",
    "    .option('header', True)\n",
    "    .save('source_csv')\n",
    ")"
   ]
  },
  {
   "cell_type": "code",
   "execution_count": 113,
   "id": "1e8c4051-3f1d-4315-b601-8a0d171bf6f7",
   "metadata": {},
   "outputs": [
    {
     "data": {
      "text/plain": [
       "['.part-00011-15f6914e-5a8e-45d8-8639-f87de4531a31-c000.json.crc',\n",
       " '.part-00008-15f6914e-5a8e-45d8-8639-f87de4531a31-c000.json.crc',\n",
       " 'part-00001-15f6914e-5a8e-45d8-8639-f87de4531a31-c000.json',\n",
       " '.part-00001-15f6914e-5a8e-45d8-8639-f87de4531a31-c000.json.crc',\n",
       " 'part-00011-15f6914e-5a8e-45d8-8639-f87de4531a31-c000.json',\n",
       " 'part-00009-15f6914e-5a8e-45d8-8639-f87de4531a31-c000.json',\n",
       " 'part-00004-15f6914e-5a8e-45d8-8639-f87de4531a31-c000.json',\n",
       " '.part-00002-15f6914e-5a8e-45d8-8639-f87de4531a31-c000.json.crc',\n",
       " '._SUCCESS.crc',\n",
       " 'part-00006-15f6914e-5a8e-45d8-8639-f87de4531a31-c000.json',\n",
       " '.part-00005-15f6914e-5a8e-45d8-8639-f87de4531a31-c000.json.crc',\n",
       " 'part-00003-15f6914e-5a8e-45d8-8639-f87de4531a31-c000.json',\n",
       " '.part-00006-15f6914e-5a8e-45d8-8639-f87de4531a31-c000.json.crc',\n",
       " 'part-00002-15f6914e-5a8e-45d8-8639-f87de4531a31-c000.json',\n",
       " '.part-00010-15f6914e-5a8e-45d8-8639-f87de4531a31-c000.json.crc',\n",
       " '.part-00009-15f6914e-5a8e-45d8-8639-f87de4531a31-c000.json.crc',\n",
       " '.part-00000-15f6914e-5a8e-45d8-8639-f87de4531a31-c000.json.crc',\n",
       " 'part-00007-15f6914e-5a8e-45d8-8639-f87de4531a31-c000.json',\n",
       " '.part-00003-15f6914e-5a8e-45d8-8639-f87de4531a31-c000.json.crc',\n",
       " 'part-00005-15f6914e-5a8e-45d8-8639-f87de4531a31-c000.json',\n",
       " 'part-00008-15f6914e-5a8e-45d8-8639-f87de4531a31-c000.json',\n",
       " '_SUCCESS',\n",
       " 'part-00010-15f6914e-5a8e-45d8-8639-f87de4531a31-c000.json',\n",
       " '.part-00004-15f6914e-5a8e-45d8-8639-f87de4531a31-c000.json.crc',\n",
       " 'part-00000-15f6914e-5a8e-45d8-8639-f87de4531a31-c000.json',\n",
       " '.part-00007-15f6914e-5a8e-45d8-8639-f87de4531a31-c000.json.crc']"
      ]
     },
     "execution_count": 113,
     "metadata": {},
     "output_type": "execute_result"
    }
   ],
   "source": [
    "os.listdir('source_json')"
   ]
  },
  {
   "cell_type": "code",
   "execution_count": 114,
   "id": "eac6d6fb-3259-41a1-82e9-b14d59e8367c",
   "metadata": {},
   "outputs": [
    {
     "data": {
      "text/plain": [
       "['part-00002-6506bf7b-6b9f-436d-b659-9d0c2204209d-c000.csv',\n",
       " 'part-00003-6506bf7b-6b9f-436d-b659-9d0c2204209d-c000.csv',\n",
       " '.part-00000-6506bf7b-6b9f-436d-b659-9d0c2204209d-c000.csv.crc',\n",
       " 'part-00000-6506bf7b-6b9f-436d-b659-9d0c2204209d-c000.csv',\n",
       " '._SUCCESS.crc',\n",
       " '.part-00001-6506bf7b-6b9f-436d-b659-9d0c2204209d-c000.csv.crc',\n",
       " 'part-00001-6506bf7b-6b9f-436d-b659-9d0c2204209d-c000.csv',\n",
       " '.part-00003-6506bf7b-6b9f-436d-b659-9d0c2204209d-c000.csv.crc',\n",
       " '.part-00002-6506bf7b-6b9f-436d-b659-9d0c2204209d-c000.csv.crc',\n",
       " 'part-00011-6506bf7b-6b9f-436d-b659-9d0c2204209d-c000.csv',\n",
       " '.part-00005-6506bf7b-6b9f-436d-b659-9d0c2204209d-c000.csv.crc',\n",
       " '.part-00004-6506bf7b-6b9f-436d-b659-9d0c2204209d-c000.csv.crc',\n",
       " 'part-00006-6506bf7b-6b9f-436d-b659-9d0c2204209d-c000.csv',\n",
       " '.part-00006-6506bf7b-6b9f-436d-b659-9d0c2204209d-c000.csv.crc',\n",
       " 'part-00010-6506bf7b-6b9f-436d-b659-9d0c2204209d-c000.csv',\n",
       " '.part-00007-6506bf7b-6b9f-436d-b659-9d0c2204209d-c000.csv.crc',\n",
       " 'part-00007-6506bf7b-6b9f-436d-b659-9d0c2204209d-c000.csv',\n",
       " '_SUCCESS',\n",
       " '.part-00010-6506bf7b-6b9f-436d-b659-9d0c2204209d-c000.csv.crc',\n",
       " 'part-00004-6506bf7b-6b9f-436d-b659-9d0c2204209d-c000.csv',\n",
       " '.part-00011-6506bf7b-6b9f-436d-b659-9d0c2204209d-c000.csv.crc',\n",
       " 'part-00008-6506bf7b-6b9f-436d-b659-9d0c2204209d-c000.csv',\n",
       " '.part-00008-6506bf7b-6b9f-436d-b659-9d0c2204209d-c000.csv.crc',\n",
       " 'part-00005-6506bf7b-6b9f-436d-b659-9d0c2204209d-c000.csv',\n",
       " 'part-00009-6506bf7b-6b9f-436d-b659-9d0c2204209d-c000.csv',\n",
       " '.part-00009-6506bf7b-6b9f-436d-b659-9d0c2204209d-c000.csv.crc']"
      ]
     },
     "execution_count": 114,
     "metadata": {},
     "output_type": "execute_result"
    }
   ],
   "source": [
    "os.listdir('source_csv')"
   ]
  },
  {
   "cell_type": "markdown",
   "id": "631ed7f2-11f1-4a54-bb01-c02dcb018500",
   "metadata": {},
   "source": [
    "### 3. Inspect the data in your dataframes. Are the data types appropriate? Write the code necessary to cast the values to the appropriate types."
   ]
  },
  {
   "cell_type": "markdown",
   "id": "96b2f589-d949-4855-9640-951c549de738",
   "metadata": {},
   "source": [
    "#### CASES"
   ]
  },
  {
   "cell_type": "code",
   "execution_count": 115,
   "id": "3f09b7cb-6adf-4187-9ec2-976246e28b99",
   "metadata": {},
   "outputs": [
    {
     "data": {
      "text/plain": [
       "[('case_id', 'int'),\n",
       " ('case_opened_date', 'timestamp'),\n",
       " ('case_closed_date', 'timestamp'),\n",
       " ('case_due_date', 'timestamp'),\n",
       " ('case_late', 'boolean'),\n",
       " ('num_days_late', 'double'),\n",
       " ('case_closed', 'boolean'),\n",
       " ('service_request_type', 'string'),\n",
       " ('SLA_days', 'double'),\n",
       " ('case_status', 'string'),\n",
       " ('source_id', 'string'),\n",
       " ('request_address', 'string'),\n",
       " ('council_district', 'string'),\n",
       " ('num_weeks_late', 'double'),\n",
       " ('zipcode', 'string'),\n",
       " ('case_age', 'int'),\n",
       " ('days_to_closed', 'int'),\n",
       " ('case_lifetime', 'int'),\n",
       " ('num_hours_late', 'double'),\n",
       " ('department', 'string'),\n",
       " ('dept_subject_to_SLA', 'boolean')]"
      ]
     },
     "execution_count": 115,
     "metadata": {},
     "output_type": "execute_result"
    }
   ],
   "source": [
    "cases.dtypes"
   ]
  },
  {
   "cell_type": "code",
   "execution_count": 116,
   "id": "9f8975c9-ea73-41e2-a46f-e703bd21cccd",
   "metadata": {},
   "outputs": [
    {
     "name": "stdout",
     "output_type": "stream",
     "text": [
      "root\n",
      " |-- case_id: integer (nullable = true)\n",
      " |-- case_opened_date: timestamp (nullable = true)\n",
      " |-- case_closed_date: timestamp (nullable = true)\n",
      " |-- case_due_date: timestamp (nullable = true)\n",
      " |-- case_late: boolean (nullable = true)\n",
      " |-- num_days_late: double (nullable = true)\n",
      " |-- case_closed: boolean (nullable = true)\n",
      " |-- service_request_type: string (nullable = true)\n",
      " |-- SLA_days: double (nullable = true)\n",
      " |-- case_status: string (nullable = true)\n",
      " |-- source_id: string (nullable = true)\n",
      " |-- request_address: string (nullable = true)\n",
      " |-- council_district: string (nullable = false)\n",
      " |-- num_weeks_late: double (nullable = true)\n",
      " |-- zipcode: string (nullable = true)\n",
      " |-- case_age: integer (nullable = true)\n",
      " |-- days_to_closed: integer (nullable = true)\n",
      " |-- case_lifetime: integer (nullable = true)\n",
      " |-- num_hours_late: double (nullable = true)\n",
      " |-- department: string (nullable = true)\n",
      " |-- dept_subject_to_SLA: boolean (nullable = true)\n",
      "\n"
     ]
    }
   ],
   "source": [
    "cases.printSchema()"
   ]
  },
  {
   "cell_type": "code",
   "execution_count": 12,
   "id": "cd780f2a-41a5-423f-bef6-ac810ddc95aa",
   "metadata": {},
   "outputs": [
    {
     "name": "stderr",
     "output_type": "stream",
     "text": [
      "23/07/05 14:57:10 WARN TaskSetManager: Stage 10 contains a task of very large size (12597 KiB). The maximum recommended task size is 1000 KiB.\n",
      "[Stage 10:>                                                         (0 + 1) / 1]\r"
     ]
    },
    {
     "name": "stdout",
     "output_type": "stream",
     "text": [
      "-RECORD 0------------------------------------\n",
      " case_id              | 1014127332           \n",
      " case_opened_date     | 1/1/18 0:42          \n",
      " case_closed_date     | 1/1/18 12:29         \n",
      " SLA_due_date         | 9/26/20 0:42         \n",
      " case_late            | NO                   \n",
      " num_days_late        | -998.5087616         \n",
      " case_closed          | YES                  \n",
      " dept_division        | Field Operations     \n",
      " service_request_type | Stray Animal         \n",
      " SLA_days             | 999.0                \n",
      " case_status          | Closed               \n",
      " source_id            | svcCRMLS             \n",
      " request_address      | 2315  EL PASO ST,... \n",
      " council_district     | 5                    \n",
      "-RECORD 1------------------------------------\n",
      " case_id              | 1014127333           \n",
      " case_opened_date     | 1/1/18 0:46          \n",
      " case_closed_date     | 1/3/18 8:11          \n",
      " SLA_due_date         | 1/5/18 8:30          \n",
      " case_late            | NO                   \n",
      " num_days_late        | -2.012604167         \n",
      " case_closed          | YES                  \n",
      " dept_division        | Storm Water          \n",
      " service_request_type | Removal Of Obstru... \n",
      " SLA_days             | 4.322222222          \n",
      " case_status          | Closed               \n",
      " source_id            | svcCRMSS             \n",
      " request_address      | 2215  GOLIAD RD, ... \n",
      " council_district     | 3                    \n",
      "only showing top 2 rows\n",
      "\n"
     ]
    },
    {
     "name": "stderr",
     "output_type": "stream",
     "text": [
      "23/07/05 14:57:14 WARN PythonRunner: Detected deadlock while completing task 0.0 in stage 10 (TID 76): Attempting to kill Python Worker\n",
      "                                                                                \r"
     ]
    }
   ],
   "source": [
    "cases.show(2, vertical=True)"
   ]
  },
  {
   "cell_type": "code",
   "execution_count": 13,
   "id": "1cb13773-3581-40f8-a5b4-164fa1ca53de",
   "metadata": {},
   "outputs": [
    {
     "data": {
      "text/plain": [
       "DataFrame[summary: string, case_id: string, case_opened_date: string, case_closed_date: string, SLA_due_date: string, case_late: string, num_days_late: string, case_closed: string, dept_division: string, service_request_type: string, SLA_days: string, case_status: string, source_id: string, request_address: string, council_district: string]"
      ]
     },
     "execution_count": 13,
     "metadata": {},
     "output_type": "execute_result"
    }
   ],
   "source": [
    "cases.summary()"
   ]
  },
  {
   "cell_type": "code",
   "execution_count": 14,
   "id": "0cef332e-099e-476c-ae93-464f69537c5d",
   "metadata": {},
   "outputs": [],
   "source": [
    "cols = [\"council_district\", \"SLA_days\", \"num_days_late\"]"
   ]
  },
  {
   "cell_type": "code",
   "execution_count": 15,
   "id": "3a9bef9d-0cb4-4a87-ac24-3c36ecadd4fc",
   "metadata": {},
   "outputs": [],
   "source": [
    "for col_name in cols:\n",
    "    cases = cases.withColumn(col_name, col(col_name).cast('float'))"
   ]
  },
  {
   "cell_type": "code",
   "execution_count": 17,
   "id": "adfbc110-8e0d-4933-936a-db09d8a2550c",
   "metadata": {},
   "outputs": [
    {
     "name": "stderr",
     "output_type": "stream",
     "text": [
      "23/07/05 14:57:15 WARN TaskSetManager: Stage 11 contains a task of very large size (12597 KiB). The maximum recommended task size is 1000 KiB.\n",
      "[Stage 11:>                                                         (0 + 1) / 1]\r"
     ]
    },
    {
     "name": "stdout",
     "output_type": "stream",
     "text": [
      "-RECORD 0------------------------------------\n",
      " case_id              | 1014127332           \n",
      " case_opened_date     | 1/1/18 0:42          \n",
      " case_closed_date     | 1/1/18 12:29         \n",
      " SLA_due_date         | 9/26/20 0:42         \n",
      " case_late            | NO                   \n",
      " num_days_late        | -998.5088            \n",
      " case_closed          | YES                  \n",
      " dept_division        | Field Operations     \n",
      " service_request_type | Stray Animal         \n",
      " SLA_days             | 999.0                \n",
      " case_status          | Closed               \n",
      " source_id            | svcCRMLS             \n",
      " request_address      | 2315  EL PASO ST,... \n",
      " council_district     | 5.0                  \n",
      "-RECORD 1------------------------------------\n",
      " case_id              | 1014127333           \n",
      " case_opened_date     | 1/1/18 0:46          \n",
      " case_closed_date     | 1/3/18 8:11          \n",
      " SLA_due_date         | 1/5/18 8:30          \n",
      " case_late            | NO                   \n",
      " num_days_late        | -2.0126042           \n",
      " case_closed          | YES                  \n",
      " dept_division        | Storm Water          \n",
      " service_request_type | Removal Of Obstru... \n",
      " SLA_days             | 4.322222             \n",
      " case_status          | Closed               \n",
      " source_id            | svcCRMSS             \n",
      " request_address      | 2215  GOLIAD RD, ... \n",
      " council_district     | 3.0                  \n",
      "only showing top 2 rows\n",
      "\n"
     ]
    },
    {
     "name": "stderr",
     "output_type": "stream",
     "text": [
      "23/07/05 14:57:19 WARN PythonRunner: Detected deadlock while completing task 0.0 in stage 11 (TID 77): Attempting to kill Python Worker\n",
      "                                                                                \r"
     ]
    }
   ],
   "source": [
    "cases.show(2, vertical=True)"
   ]
  },
  {
   "cell_type": "markdown",
   "id": "f9da61cf-ac9d-4f6c-9d77-710123162dc3",
   "metadata": {},
   "source": [
    "#### DEPT"
   ]
  },
  {
   "cell_type": "code",
   "execution_count": 18,
   "id": "19601d58-cce3-4076-8d4e-2222a8b91ed9",
   "metadata": {},
   "outputs": [
    {
     "name": "stdout",
     "output_type": "stream",
     "text": [
      "-RECORD 0--------------------------------------\n",
      " dept_division          | 311 Call Center      \n",
      " dept_name              | Customer Service     \n",
      " standardized_dept_name | Customer Service     \n",
      " dept_subject_to_SLA    | YES                  \n",
      "-RECORD 1--------------------------------------\n",
      " dept_division          | Brush                \n",
      " dept_name              | Solid Waste Manag... \n",
      " standardized_dept_name | Solid Waste          \n",
      " dept_subject_to_SLA    | YES                  \n",
      "only showing top 2 rows\n",
      "\n"
     ]
    }
   ],
   "source": [
    "dept.show(2, vertical=True)"
   ]
  },
  {
   "cell_type": "code",
   "execution_count": 19,
   "id": "af6920eb-63ac-458a-80c7-e9da69294b87",
   "metadata": {},
   "outputs": [
    {
     "data": {
      "text/plain": [
       "DataFrame[dept_division: string, dept_name: string, standardized_dept_name: string, dept_subject_to_SLA: string]"
      ]
     },
     "execution_count": 19,
     "metadata": {},
     "output_type": "execute_result"
    }
   ],
   "source": [
    "dept"
   ]
  },
  {
   "cell_type": "code",
   "execution_count": 20,
   "id": "a7a4fa80-d099-48a1-8436-99e243f38474",
   "metadata": {},
   "outputs": [],
   "source": [
    "dept = dept.withColumn('dept_subject_to_SLA', col('dept_subject_to_SLA').cast('boolean'))"
   ]
  },
  {
   "cell_type": "code",
   "execution_count": 21,
   "id": "cb0f397a-7a3d-43af-b9da-fa943e782c95",
   "metadata": {},
   "outputs": [
    {
     "data": {
      "text/plain": [
       "DataFrame[dept_division: string, dept_name: string, standardized_dept_name: string, dept_subject_to_SLA: boolean]"
      ]
     },
     "execution_count": 21,
     "metadata": {},
     "output_type": "execute_result"
    }
   ],
   "source": [
    "dept"
   ]
  },
  {
   "cell_type": "markdown",
   "id": "f9dbf078-11f2-476d-bf9f-408a876555fc",
   "metadata": {},
   "source": [
    "#### SOURCE"
   ]
  },
  {
   "cell_type": "code",
   "execution_count": 22,
   "id": "2dd328cc-49b9-4725-8db1-ec5a00446cba",
   "metadata": {},
   "outputs": [
    {
     "name": "stdout",
     "output_type": "stream",
     "text": [
      "-RECORD 0---------------------------\n",
      " index           | 0                \n",
      " source_id       | 100137           \n",
      " source_username | Merlene Blodgett \n",
      "-RECORD 1---------------------------\n",
      " index           | 1                \n",
      " source_id       | 103582           \n",
      " source_username | Carmen Cura      \n",
      "only showing top 2 rows\n",
      "\n"
     ]
    }
   ],
   "source": [
    "source.show(2, vertical=True)"
   ]
  },
  {
   "cell_type": "code",
   "execution_count": 23,
   "id": "505bd84c-2a65-49e4-a5dd-55e56a402674",
   "metadata": {},
   "outputs": [
    {
     "data": {
      "text/plain": [
       "DataFrame[index: bigint, source_id: string, source_username: string]"
      ]
     },
     "execution_count": 23,
     "metadata": {},
     "output_type": "execute_result"
    }
   ],
   "source": [
    "source"
   ]
  },
  {
   "cell_type": "code",
   "execution_count": 49,
   "id": "301014fe-05b2-46e6-b02c-87505ddabe42",
   "metadata": {},
   "outputs": [
    {
     "name": "stderr",
     "output_type": "stream",
     "text": [
      "                                                                                \r"
     ]
    },
    {
     "name": "stdout",
     "output_type": "stream",
     "text": [
      "-RECORD 0----------------------------------------------------\n",
      " case_id              | 1014127332                           \n",
      " case_opened_date     | 1/1/18 0:42                          \n",
      " case_closed_date     | 1/1/18 12:29                         \n",
      " SLA_due_date         | 9/26/20 0:42                         \n",
      " case_late            | NO                                   \n",
      " num_days_late        | -998.5087616000001                   \n",
      " case_closed          | YES                                  \n",
      " dept_division        | Field Operations                     \n",
      " service_request_type | Stray Animal                         \n",
      " SLA_days             | 999.0                                \n",
      " case_status          | Closed                               \n",
      " source_id            | svcCRMLS                             \n",
      " request_address      | 2315  EL PASO ST, San Antonio, 78207 \n",
      " council_district     | 5                                    \n",
      "-RECORD 1----------------------------------------------------\n",
      " case_id              | 1014127333                           \n",
      " case_opened_date     | 1/1/18 0:46                          \n",
      " case_closed_date     | 1/3/18 8:11                          \n",
      " SLA_due_date         | 1/5/18 8:30                          \n",
      " case_late            | NO                                   \n",
      " num_days_late        | -2.0126041669999997                  \n",
      " case_closed          | YES                                  \n",
      " dept_division        | Storm Water                          \n",
      " service_request_type | Removal Of Obstruction               \n",
      " SLA_days             | 4.322222222                          \n",
      " case_status          | Closed                               \n",
      " source_id            | svcCRMSS                             \n",
      " request_address      | 2215  GOLIAD RD, San Antonio, 78223  \n",
      " council_district     | 3                                    \n",
      "only showing top 2 rows\n",
      "\n"
     ]
    }
   ],
   "source": [
    "cases = spark.read.csv(\"case.csv\", header=True, inferSchema=True)\n",
    "cases.show(2, vertical=True, truncate=False) #Default: True = truncate strings longer than 20 chars"
   ]
  },
  {
   "cell_type": "markdown",
   "id": "a29f4a54-13cb-440b-b530-d54afc0c8d6c",
   "metadata": {},
   "source": [
    "We will now cover various pieces of data preparation we wish to do and how to do those with spark.\n",
    "\n",
    "## Rename Columns\n",
    "\n",
    "We'll rename this column to match with the other date-type columns."
   ]
  },
  {
   "cell_type": "code",
   "execution_count": 50,
   "id": "870a4afb-6373-442d-9685-9dbf7daf827e",
   "metadata": {},
   "outputs": [
    {
     "name": "stdout",
     "output_type": "stream",
     "text": [
      "-RECORD 0------------------------------------\n",
      " case_id              | 1014127332           \n",
      " case_opened_date     | 1/1/18 0:42          \n",
      " case_closed_date     | 1/1/18 12:29         \n",
      " case_due_date        | 9/26/20 0:42         \n",
      " case_late            | NO                   \n",
      " num_days_late        | -998.5087616000001   \n",
      " case_closed          | YES                  \n",
      " dept_division        | Field Operations     \n",
      " service_request_type | Stray Animal         \n",
      " SLA_days             | 999.0                \n",
      " case_status          | Closed               \n",
      " source_id            | svcCRMLS             \n",
      " request_address      | 2315  EL PASO ST,... \n",
      " council_district     | 5                    \n",
      "-RECORD 1------------------------------------\n",
      " case_id              | 1014127333           \n",
      " case_opened_date     | 1/1/18 0:46          \n",
      " case_closed_date     | 1/3/18 8:11          \n",
      " case_due_date        | 1/5/18 8:30          \n",
      " case_late            | NO                   \n",
      " num_days_late        | -2.0126041669999997  \n",
      " case_closed          | YES                  \n",
      " dept_division        | Storm Water          \n",
      " service_request_type | Removal Of Obstru... \n",
      " SLA_days             | 4.322222222          \n",
      " case_status          | Closed               \n",
      " source_id            | svcCRMSS             \n",
      " request_address      | 2215  GOLIAD RD, ... \n",
      " council_district     | 3                    \n",
      "only showing top 2 rows\n",
      "\n"
     ]
    }
   ],
   "source": [
    "cases = cases.withColumnRenamed('SLA_due_date', 'case_due_date')\n",
    "cases.show(2, vertical=True)"
   ]
  },
  {
   "cell_type": "markdown",
   "id": "f2e0c28c-e0de-4d05-adb4-bdd026feb6e6",
   "metadata": {},
   "source": [
    "<div class=\"alert alert-info\" role=\"alert\">\n",
    "\n",
    "Two columns, `case_closed` and `case_late` store yes/no values. Currently spark thinks they are strings\n",
    "- Let's turn them into booleans:\n",
    "\n",
    "</div>"
   ]
  },
  {
   "cell_type": "code",
   "execution_count": 51,
   "id": "a4116821-c3ef-45e6-9881-f64d3d9c8b86",
   "metadata": {},
   "outputs": [
    {
     "name": "stderr",
     "output_type": "stream",
     "text": [
      "[Stage 30:>                                                       (0 + 12) / 12]\r"
     ]
    },
    {
     "name": "stdout",
     "output_type": "stream",
     "text": [
      "+-----------+---------+------+\n",
      "|case_closed|case_late| count|\n",
      "+-----------+---------+------+\n",
      "|         NO|      YES|  6525|\n",
      "|        YES|      YES| 87978|\n",
      "|         NO|       NO| 11585|\n",
      "|        YES|       NO|735616|\n",
      "+-----------+---------+------+\n",
      "\n"
     ]
    },
    {
     "name": "stderr",
     "output_type": "stream",
     "text": [
      "                                                                                \r"
     ]
    }
   ],
   "source": [
    "# demonstrating we only have yes/no in each field\n",
    "cases.groupBy('case_closed', 'case_late').count().show()"
   ]
  },
  {
   "cell_type": "code",
   "execution_count": 52,
   "id": "3e67f6fe-f782-4540-9500-b099c1a6beee",
   "metadata": {},
   "outputs": [
    {
     "name": "stdout",
     "output_type": "stream",
     "text": [
      "+-----------+---------+\n",
      "|case_closed|case_late|\n",
      "+-----------+---------+\n",
      "|       true|    false|\n",
      "|       true|    false|\n",
      "|       true|    false|\n",
      "|       true|    false|\n",
      "|       true|     true|\n",
      "|       true|    false|\n",
      "|       true|    false|\n",
      "|       true|    false|\n",
      "|       true|    false|\n",
      "|       true|    false|\n",
      "|       true|    false|\n",
      "|       true|    false|\n",
      "|       true|    false|\n",
      "|       true|    false|\n",
      "|       true|    false|\n",
      "|       true|    false|\n",
      "|       true|    false|\n",
      "|       true|    false|\n",
      "|       true|    false|\n",
      "|       true|    false|\n",
      "+-----------+---------+\n",
      "only showing top 20 rows\n",
      "\n"
     ]
    }
   ],
   "source": [
    "#Let's create two new boolean columns\n",
    "cases = cases.withColumn('case_closed', expr('case_closed == \"YES\"')).withColumn(\n",
    "        'case_late', expr('case_late == \"YES\"'))\n",
    "\n",
    "#Select just the two columns\n",
    "cases.select('case_closed', 'case_late').show()"
   ]
  },
  {
   "cell_type": "code",
   "execution_count": 53,
   "id": "6e1f23d0-0611-4443-bedc-44bdac766606",
   "metadata": {},
   "outputs": [
    {
     "name": "stdout",
     "output_type": "stream",
     "text": [
      "root\n",
      " |-- case_id: integer (nullable = true)\n",
      " |-- case_opened_date: string (nullable = true)\n",
      " |-- case_closed_date: string (nullable = true)\n",
      " |-- case_due_date: string (nullable = true)\n",
      " |-- case_late: boolean (nullable = true)\n",
      " |-- num_days_late: double (nullable = true)\n",
      " |-- case_closed: boolean (nullable = true)\n",
      " |-- dept_division: string (nullable = true)\n",
      " |-- service_request_type: string (nullable = true)\n",
      " |-- SLA_days: double (nullable = true)\n",
      " |-- case_status: string (nullable = true)\n",
      " |-- source_id: string (nullable = true)\n",
      " |-- request_address: string (nullable = true)\n",
      " |-- council_district: integer (nullable = true)\n",
      "\n"
     ]
    }
   ],
   "source": [
    "cases.printSchema()"
   ]
  },
  {
   "cell_type": "code",
   "execution_count": 55,
   "id": "f2f44033-5f89-40db-9cc6-82aee403e2cc",
   "metadata": {},
   "outputs": [
    {
     "name": "stderr",
     "output_type": "stream",
     "text": [
      "[Stage 34:>                                                       (0 + 12) / 12]\r"
     ]
    },
    {
     "name": "stdout",
     "output_type": "stream",
     "text": [
      "+----------------+------+\n",
      "|council_district| count|\n",
      "+----------------+------+\n",
      "|               1|119309|\n",
      "|               6| 74095|\n",
      "|               3|102706|\n",
      "|               5|114609|\n",
      "|               9| 40916|\n",
      "|               4| 93778|\n",
      "|               8| 42345|\n",
      "|               7| 72445|\n",
      "|              10| 62926|\n",
      "|               2|114745|\n",
      "|               0|  3830|\n",
      "+----------------+------+\n",
      "\n"
     ]
    },
    {
     "name": "stderr",
     "output_type": "stream",
     "text": [
      "                                                                                \r"
     ]
    }
   ],
   "source": [
    "cases.groupBy('council_district').count().show()"
   ]
  },
  {
   "cell_type": "code",
   "execution_count": 57,
   "id": "0704b71c-c20c-4b9b-b37e-ea5b33f96c18",
   "metadata": {},
   "outputs": [],
   "source": [
    "cases = cases.withColumn('council_district', col('council_district').cast('string'))"
   ]
  },
  {
   "cell_type": "markdown",
   "id": "b9493f9f-bb52-4e97-8df7-287e32e9e15b",
   "metadata": {},
   "source": [
    "<div class=\"alert alert-info\" role=\"alert\">\n",
    "\n",
    "Now we'll use spark's  `to_timestamp` function to handle the 3 columns that have dates in them. \n",
    "    \n",
    "In order to work properly, we'll need to provide the date format when using `to_timestamp`. \n",
    "The date format is a little different than the date functionality we've worked with in pandas, this is because it is using [Java's `SimpleDateFormat`][1].\n",
    "\n",
    "[1]: https://docs.oracle.com/javase/7/docs/api/java/text/SimpleDateFormat.html\n",
    "\n",
    "</div>"
   ]
  },
  {
   "cell_type": "code",
   "execution_count": 58,
   "id": "f7da9a68-a0fc-497f-aaf2-6059a298db24",
   "metadata": {},
   "outputs": [
    {
     "name": "stdout",
     "output_type": "stream",
     "text": [
      "+----------------+----------------+-------------+\n",
      "|case_opened_date|case_closed_date|case_due_date|\n",
      "+----------------+----------------+-------------+\n",
      "|     1/1/18 0:42|    1/1/18 12:29| 9/26/20 0:42|\n",
      "|     1/1/18 0:46|     1/3/18 8:11|  1/5/18 8:30|\n",
      "|     1/1/18 0:48|     1/2/18 7:57|  1/5/18 8:30|\n",
      "|     1/1/18 1:29|     1/2/18 8:13| 1/17/18 8:30|\n",
      "|     1/1/18 1:34|    1/1/18 13:29|  1/1/18 4:34|\n",
      "+----------------+----------------+-------------+\n",
      "only showing top 5 rows\n",
      "\n"
     ]
    }
   ],
   "source": [
    "#Before\n",
    "cases.select('case_opened_date', 'case_closed_date', 'case_due_date').show(5)"
   ]
  },
  {
   "cell_type": "code",
   "execution_count": 60,
   "id": "ddb56c63-762a-45b8-8405-d2e79bf9c9e8",
   "metadata": {},
   "outputs": [
    {
     "name": "stdout",
     "output_type": "stream",
     "text": [
      "+-------------------+-------------------+-------------------+\n",
      "|   case_opened_date|   case_closed_date|      case_due_date|\n",
      "+-------------------+-------------------+-------------------+\n",
      "|2018-01-01 00:42:00|2018-01-01 12:29:00|2020-09-26 00:42:00|\n",
      "|2018-01-01 00:46:00|2018-01-03 08:11:00|2018-01-05 08:30:00|\n",
      "|2018-01-01 00:48:00|2018-01-02 07:57:00|2018-01-05 08:30:00|\n",
      "|2018-01-01 01:29:00|2018-01-02 08:13:00|2018-01-17 08:30:00|\n",
      "|2018-01-01 01:34:00|2018-01-01 13:29:00|2018-01-01 04:34:00|\n",
      "+-------------------+-------------------+-------------------+\n",
      "only showing top 5 rows\n",
      "\n"
     ]
    }
   ],
   "source": [
    "#After\n",
    "\n",
    "fmt = \"M/d/yy H:mm\"\n",
    "\n",
    "cases = (\n",
    "    cases.withColumn('case_opened_date', to_timestamp('case_opened_date', fmt))\n",
    "    .withColumn('case_closed_date', to_timestamp('case_closed_date', fmt))\n",
    "    .withColumn('case_due_date', to_timestamp('case_due_date', fmt))\n",
    ")\n",
    "\n",
    "cases.select(\"case_opened_date\", \"case_closed_date\", \"case_due_date\").show(5)"
   ]
  },
  {
   "cell_type": "markdown",
   "id": "652ab097-b1e9-4bf6-8653-9dbef20d970a",
   "metadata": {},
   "source": [
    "<div class=\"alert alert-info\" role=\"alert\">\n",
    "\n",
    "We'll begin by normalizing the request address field. \n",
    "\n",
    "Using the `trim` and `lower` functions let's strip any leading or trailing whitespace and convert everything to lowercase.\n",
    "\n",
    "</div>"
   ]
  },
  {
   "cell_type": "code",
   "execution_count": 61,
   "id": "08927433-ddf7-4d20-b634-dbc448e1d9a0",
   "metadata": {},
   "outputs": [
    {
     "name": "stdout",
     "output_type": "stream",
     "text": [
      "+-------------------------------------+\n",
      "|                      request_address|\n",
      "+-------------------------------------+\n",
      "| 2315  EL PASO ST, San Antonio, 78207|\n",
      "|  2215  GOLIAD RD, San Antonio, 78223|\n",
      "|102  PALFREY ST W, San Antonio, 78223|\n",
      "| 114  LA GARDE ST, San Antonio, 78223|\n",
      "|734  CLEARVIEW DR, San Antonio, 78228|\n",
      "+-------------------------------------+\n",
      "only showing top 5 rows\n",
      "\n"
     ]
    }
   ],
   "source": [
    "#Before\n",
    "cases.select(\"request_address\").show(5, 50)"
   ]
  },
  {
   "cell_type": "code",
   "execution_count": 62,
   "id": "379be293-fe73-425f-9848-1654a36b2f14",
   "metadata": {},
   "outputs": [
    {
     "name": "stdout",
     "output_type": "stream",
     "text": [
      "+-------------------------------------+\n",
      "|                      request_address|\n",
      "+-------------------------------------+\n",
      "| 2315  el paso st, san antonio, 78207|\n",
      "|  2215  goliad rd, san antonio, 78223|\n",
      "|102  palfrey st w, san antonio, 78223|\n",
      "| 114  la garde st, san antonio, 78223|\n",
      "|734  clearview dr, san antonio, 78228|\n",
      "+-------------------------------------+\n",
      "only showing top 5 rows\n",
      "\n"
     ]
    }
   ],
   "source": [
    "#After\n",
    "cases = cases.withColumn('request_address', trim(lower(cases.request_address)))\n",
    "\n",
    "cases.select(\"request_address\").show(5, 50)"
   ]
  },
  {
   "cell_type": "markdown",
   "id": "c876d0c3-a8f8-4f2b-ac1d-245518260505",
   "metadata": {},
   "source": [
    "<div class=\"alert alert-info\" role=\"alert\">\n",
    "\n",
    "Here we will convert the number of days a case is late to a number of weeks.\n",
    "\n",
    "</div>"
   ]
  },
  {
   "cell_type": "code",
   "execution_count": 63,
   "id": "262908ae-1808-4eb9-8d87-e180d278256e",
   "metadata": {},
   "outputs": [
    {
     "name": "stdout",
     "output_type": "stream",
     "text": [
      "+-------------------+--------------------+\n",
      "|      num_days_late|      num_weeks_late|\n",
      "+-------------------+--------------------+\n",
      "| -998.5087616000001|        -142.6441088|\n",
      "|-2.0126041669999997|-0.28751488099999994|\n",
      "|       -3.022337963|-0.43176256614285713|\n",
      "|       -15.01148148| -2.1444973542857144|\n",
      "|0.37216435200000003|         0.053166336|\n",
      "+-------------------+--------------------+\n",
      "only showing top 5 rows\n",
      "\n"
     ]
    }
   ],
   "source": [
    "cases = cases.withColumn('num_weeks_late', expr('num_days_late/7'))\n",
    "\n",
    "cases.select(\"num_days_late\", \"num_weeks_late\").show(5)"
   ]
  },
  {
   "cell_type": "markdown",
   "id": "03077d54-574a-48a4-851a-5009d4c08605",
   "metadata": {},
   "source": [
    "<div class=\"alert alert-info\" role=\"alert\">\n",
    "\n",
    "Lastly, we can format the `council_district` column a little differently. \n",
    "- We'll add leading 0s to it:\n",
    "\n",
    "</div>"
   ]
  },
  {
   "cell_type": "code",
   "execution_count": 64,
   "id": "03247122-6035-4db4-b7eb-c590c8fed60a",
   "metadata": {
    "tags": []
   },
   "outputs": [
    {
     "name": "stdout",
     "output_type": "stream",
     "text": [
      "+----------------+\n",
      "|council_district|\n",
      "+----------------+\n",
      "|             005|\n",
      "|             003|\n",
      "|             003|\n",
      "|             003|\n",
      "|             007|\n",
      "+----------------+\n",
      "only showing top 5 rows\n",
      "\n"
     ]
    }
   ],
   "source": [
    "# df = df.withColumn('council_distric', col('council_district').cast('int'))\n",
    "\n",
    "# '%03d' means at least 3 digits, pad with 0s\n",
    "#\n",
    "# In order to use the format_string function the way we are, we'll need to\n",
    "# convert council_district back to an integer temporarily, but the final output\n",
    "# will be a string.\n",
    "cases = cases.withColumn('council_district',\n",
    "                  format_string('%03d', col('council_district').cast('int')))\n",
    "\n",
    "cases.select(\"council_district\").show(5)"
   ]
  },
  {
   "cell_type": "markdown",
   "id": "7219b7ba-3118-4077-bac2-448cdba52ad2",
   "metadata": {
    "tags": []
   },
   "source": [
    "## New Features\n",
    "\n",
    "Let's now create some new features based on our existing data.\n",
    "\n",
    "We will first extract the zipcode from the address:"
   ]
  },
  {
   "cell_type": "code",
   "execution_count": 65,
   "id": "899dde60-a2d8-4eaf-b216-dd33bd0290c7",
   "metadata": {},
   "outputs": [
    {
     "name": "stdout",
     "output_type": "stream",
     "text": [
      "+------------------------------------+\n",
      "|                     request_address|\n",
      "+------------------------------------+\n",
      "|2315  el paso st, san antonio, 78207|\n",
      "| 2215  goliad rd, san antonio, 78223|\n",
      "+------------------------------------+\n",
      "only showing top 2 rows\n",
      "\n"
     ]
    }
   ],
   "source": [
    "cases.select(\"request_address\").show(2, 50)"
   ]
  },
  {
   "cell_type": "code",
   "execution_count": 66,
   "id": "7fa6073d-bffd-4a6d-88fd-56436ec199c7",
   "metadata": {},
   "outputs": [],
   "source": [
    "# col: request_address\n",
    "# regex pattern\n",
    "# inx:0, as default b'c we are requesting the last few digits \"$\"\n",
    "# df.select(regexp_extract('request_address', r\"\\d+$\", 0)).show(2)"
   ]
  },
  {
   "cell_type": "code",
   "execution_count": 67,
   "id": "9ad74e0a-83c3-4def-bd23-f61c09733f14",
   "metadata": {},
   "outputs": [
    {
     "name": "stdout",
     "output_type": "stream",
     "text": [
      "+-------+\n",
      "|zipcode|\n",
      "+-------+\n",
      "|  78207|\n",
      "|  78223|\n",
      "|  78223|\n",
      "|  78223|\n",
      "|  78228|\n",
      "+-------+\n",
      "only showing top 5 rows\n",
      "\n"
     ]
    }
   ],
   "source": [
    "# \\d+: greedy digit; $: end of line\n",
    "cases = cases.withColumn(\"zipcode\", regexp_extract(\"request_address\", r\"\\d+$\", 0))\n",
    "\n",
    "cases.select(\"zipcode\").show(5)"
   ]
  },
  {
   "cell_type": "code",
   "execution_count": 68,
   "id": "9c88f0b9-e43b-467a-aa8a-f5546eb5da0d",
   "metadata": {},
   "outputs": [],
   "source": [
    "cases = (\n",
    "# calculates the number of days between the current timestamp & case_opened_date\n",
    "    cases.withColumn(\n",
    "        'case_age', datediff(current_timestamp(), 'case_opened_date')\n",
    "    )\n",
    "# Calculates the number of days between the case_closed_date & case_opened_date\n",
    "    .withColumn(\n",
    "        'days_to_closed', datediff('case_closed_date', 'case_opened_date')\n",
    "    )\n",
    "# since case_closed is boolean, we can check if it's T/F;\n",
    "#If the case is not closed, it takes the value from the \"case_age\" column\n",
    "#Otherwise, it takes the value from the \"days_to_closed\" column    \n",
    "    .withColumn(\n",
    "        'case_lifetime',\n",
    "            when(expr(\"! case_closed\"), col(\"case_age\")).otherwise(col('days_to_closed'))\n",
    "    )\n",
    ")"
   ]
  },
  {
   "cell_type": "code",
   "execution_count": 69,
   "id": "cfa78478-9c57-4841-a7be-8b8415db760e",
   "metadata": {},
   "outputs": [
    {
     "name": "stdout",
     "output_type": "stream",
     "text": [
      "+-----------+-------------------+-------------------+--------+--------------+-------------+\n",
      "|case_closed|   case_opened_date|   case_closed_date|case_age|days_to_closed|case_lifetime|\n",
      "+-----------+-------------------+-------------------+--------+--------------+-------------+\n",
      "|       true|2018-01-01 00:42:00|2018-01-01 12:29:00|    2011|             0|            0|\n",
      "|       true|2018-01-01 00:46:00|2018-01-03 08:11:00|    2011|             2|            2|\n",
      "|       true|2018-01-01 00:48:00|2018-01-02 07:57:00|    2011|             1|            1|\n",
      "|       true|2018-01-01 01:29:00|2018-01-02 08:13:00|    2011|             1|            1|\n",
      "|       true|2018-01-01 01:34:00|2018-01-01 13:29:00|    2011|             0|            0|\n",
      "+-----------+-------------------+-------------------+--------+--------------+-------------+\n",
      "only showing top 5 rows\n",
      "\n",
      "+-----------+-------------------+----------------+--------+--------------+-------------+\n",
      "|case_closed|   case_opened_date|case_closed_date|case_age|days_to_closed|case_lifetime|\n",
      "+-----------+-------------------+----------------+--------+--------------+-------------+\n",
      "|      false|2018-01-02 09:39:00|            null|    2010|          null|         2010|\n",
      "|      false|2018-01-02 10:49:00|            null|    2010|          null|         2010|\n",
      "|      false|2018-01-02 13:45:00|            null|    2010|          null|         2010|\n",
      "|      false|2018-01-02 14:09:00|            null|    2010|          null|         2010|\n",
      "|      false|2018-01-02 14:34:00|            null|    2010|          null|         2010|\n",
      "+-----------+-------------------+----------------+--------+--------------+-------------+\n",
      "only showing top 5 rows\n",
      "\n"
     ]
    }
   ],
   "source": [
    "cases.select(\n",
    "    \"case_closed\",\n",
    "    \"case_opened_date\",\n",
    "    \"case_closed_date\",\n",
    "    \"case_age\",\n",
    "    \"days_to_closed\",\n",
    "    \"case_lifetime\",\n",
    ").where(expr('case_closed')).show(5)\n",
    "\n",
    "cases.select(\n",
    "    \"case_closed\",\n",
    "    \"case_opened_date\",\n",
    "    \"case_closed_date\",\n",
    "    \"case_age\",\n",
    "    \"days_to_closed\",\n",
    "    \"case_lifetime\",\n",
    ").where(expr(\"! case_closed\")).show(5)"
   ]
  },
  {
   "cell_type": "markdown",
   "id": "f6937a67-e6a1-439e-8ec1-aa2b4b1bca22",
   "metadata": {},
   "source": [
    "### 1. How old is the latest (in terms of days past SLA) currently open issue? How long has the oldest (in terms of days since opened) currently opened issue been open?"
   ]
  },
  {
   "cell_type": "code",
   "execution_count": 71,
   "id": "c10b241f-10a8-4808-85d2-a10fc8ef2fc9",
   "metadata": {},
   "outputs": [],
   "source": [
    "days_open = cases.filter(col('case_closed') == \"NO\")"
   ]
  },
  {
   "cell_type": "code",
   "execution_count": 117,
   "id": "e3b84760-3df9-4d4f-9a1b-16b9cf3c45a0",
   "metadata": {},
   "outputs": [
    {
     "name": "stderr",
     "output_type": "stream",
     "text": [
      "                                                                                \r"
     ]
    },
    {
     "name": "stdout",
     "output_type": "stream",
     "text": [
      "+----------+-----------+------------------+-------------+\n",
      "|   case_id|case_status|     num_days_late|case_lifetime|\n",
      "+----------+-----------+------------------+-------------+\n",
      "|1013225646|       Open|       348.6458333|         2376|\n",
      "|1013225651|       Open|       348.6458333|         2376|\n",
      "|1013226813|       Open|348.52356480000003|         2375|\n",
      "|1013229328|       Open|347.58256939999995|         2374|\n",
      "|1013236238|       Open|       345.3894213|         2372|\n",
      "|1013257313|       Open|       341.6458333|         2363|\n",
      "|1013263418|       Open|       341.4006481|         2360|\n",
      "|1013245251|       Open|       340.6083333|         2367|\n",
      "|1013247888|       Open|       339.6458333|         2367|\n",
      "|1013249877|       Open|       339.3817361|         2366|\n",
      "|1013256068|       Open|335.38761569999997|         2364|\n",
      "|1013257022|       Open|       334.6458333|         2363|\n",
      "|1013260804|       Open|       334.6458333|         2361|\n",
      "|1013261951|       Open|        334.570544|         2360|\n",
      "|1013289892|       Open|       331.6044792|         2350|\n",
      "|1013289927|       Open|       331.5981597|         2350|\n",
      "|1013285092|       Open|       326.4398843|         2352|\n",
      "|1013285284|       Open|       326.4131481|         2352|\n",
      "|1013286676|       Open|       325.6163889|         2351|\n",
      "|1013287773|       Open|       325.4670486|         2351|\n",
      "+----------+-----------+------------------+-------------+\n",
      "only showing top 20 rows\n",
      "\n"
     ]
    }
   ],
   "source": [
    "days_open.select(\n",
    "    \"case_id\",\n",
    "    \"case_status\",\n",
    "    \"num_days_late\",\n",
    "    \"case_lifetime\",\n",
    "    ).where(expr(\"case_closed=='NO'\")).sort(desc('num_days_late')).show()"
   ]
  },
  {
   "cell_type": "code",
   "execution_count": 80,
   "id": "b166940d-53fc-45a1-81d5-1482439eeaf4",
   "metadata": {},
   "outputs": [],
   "source": [
    "days_since_opened = cases.filter(col('case_closed') == \"NO\")"
   ]
  },
  {
   "cell_type": "code",
   "execution_count": 83,
   "id": "808a1f0f-7ff0-48b7-a39c-96e66a9fa2d7",
   "metadata": {},
   "outputs": [
    {
     "name": "stderr",
     "output_type": "stream",
     "text": [
      "[Stage 56:>                                                       (0 + 12) / 12]\r"
     ]
    },
    {
     "name": "stdout",
     "output_type": "stream",
     "text": [
      "+----------+-----------+-------------------+--------+\n",
      "|   case_id|case_status|   case_opened_date|case_age|\n",
      "+----------+-----------+-------------------+--------+\n",
      "|1013225646|       Open|2017-01-01 13:48:00|    2376|\n",
      "|1013225651|       Open|2017-01-01 13:57:00|    2376|\n",
      "|1013226813|       Open|2017-01-02 11:26:00|    2375|\n",
      "|1013229328|       Open|2017-01-03 10:01:00|    2374|\n",
      "|1013232133|       Open|2017-01-04 09:42:00|    2373|\n",
      "|1013232331|       Open|2017-01-04 10:16:00|    2373|\n",
      "|1013232521|       Open|2017-01-04 10:56:00|    2373|\n",
      "|1013232883|       Open|2017-01-04 12:19:00|    2373|\n",
      "|1013233425|       Open|2017-01-04 14:45:00|    2373|\n",
      "|1013233467|       Open|2017-01-04 14:52:00|    2373|\n",
      "|1013233485|       Open|2017-01-04 14:55:00|    2373|\n",
      "|1013233497|       Open|2017-01-04 14:58:00|    2373|\n",
      "|1013233516|       Open|2017-01-04 15:02:00|    2373|\n",
      "|1013234263|       Open|2017-01-04 18:49:00|    2373|\n",
      "|1013236238|       Open|2017-01-05 14:39:00|    2372|\n",
      "|1013236365|       Open|2017-01-05 15:07:00|    2372|\n",
      "|1013237301|       Open|2017-01-06 08:24:00|    2371|\n",
      "|1013237345|       Open|2017-01-06 08:41:00|    2371|\n",
      "|1013237603|       Open|2017-01-06 09:46:00|    2371|\n",
      "|1013237687|       Open|2017-01-06 10:08:00|    2371|\n",
      "+----------+-----------+-------------------+--------+\n",
      "only showing top 20 rows\n",
      "\n"
     ]
    },
    {
     "name": "stderr",
     "output_type": "stream",
     "text": [
      "                                                                                \r"
     ]
    }
   ],
   "source": [
    "days_since_opened.select(\n",
    "    \"case_id\",\n",
    "    \"case_status\",\n",
    "    \"case_opened_date\",\n",
    "    \"case_age\",\n",
    "    ).where(expr(\"case_closed=='NO'\")).sort(asc('case_opened_date')).show()"
   ]
  },
  {
   "cell_type": "markdown",
   "id": "c2e0bb83-aab1-4922-ae98-ebf94387a8d3",
   "metadata": {},
   "source": [
    "### 2. How many Stray Animal cases are there?"
   ]
  },
  {
   "cell_type": "code",
   "execution_count": 90,
   "id": "15466982-be7b-49bf-8fb8-5f1f08bccded",
   "metadata": {},
   "outputs": [
    {
     "name": "stderr",
     "output_type": "stream",
     "text": [
      "                                                                                \r"
     ]
    },
    {
     "data": {
      "text/plain": [
       "26760"
      ]
     },
     "execution_count": 90,
     "metadata": {},
     "output_type": "execute_result"
    }
   ],
   "source": [
    "cases.filter(col('service_request_type')=='Stray Animal').count()"
   ]
  },
  {
   "cell_type": "markdown",
   "id": "5ee365b9-8250-4f04-987d-b8f5effaedb3",
   "metadata": {},
   "source": [
    "### 3. How many service requests that are assigned to the Field Operations department (dept_division) are not classified as \"Officer Standby\" request type (service_request_type)?"
   ]
  },
  {
   "cell_type": "code",
   "execution_count": 93,
   "id": "1c8fe34f-50cd-41cc-a773-979c54291f16",
   "metadata": {},
   "outputs": [
    {
     "name": "stderr",
     "output_type": "stream",
     "text": [
      "                                                                                \r"
     ]
    },
    {
     "data": {
      "text/plain": [
       "113902"
      ]
     },
     "execution_count": 93,
     "metadata": {},
     "output_type": "execute_result"
    }
   ],
   "source": [
    "cases.filter(col('dept_division')=='Field Operations')\\\n",
    "    .filter(col('service_request_type')!='Officer Standby').count()"
   ]
  },
  {
   "cell_type": "markdown",
   "id": "59bca689-ba14-4fc2-a91f-0139aec24046",
   "metadata": {},
   "source": [
    "### 4. Convert the council_district column to a string column."
   ]
  },
  {
   "cell_type": "code",
   "execution_count": 95,
   "id": "e3521a3d-7a6d-4c73-a8ad-17be353d0a9c",
   "metadata": {},
   "outputs": [],
   "source": [
    "cases = cases.withColumn('council_district', col('council_district').cast('string'))"
   ]
  },
  {
   "cell_type": "code",
   "execution_count": 97,
   "id": "2aa85268-6042-43ed-b502-9c8cdf512b7c",
   "metadata": {},
   "outputs": [
    {
     "name": "stdout",
     "output_type": "stream",
     "text": [
      "root\n",
      " |-- case_id: integer (nullable = true)\n",
      " |-- case_opened_date: timestamp (nullable = true)\n",
      " |-- case_closed_date: timestamp (nullable = true)\n",
      " |-- case_due_date: timestamp (nullable = true)\n",
      " |-- case_late: boolean (nullable = true)\n",
      " |-- num_days_late: double (nullable = true)\n",
      " |-- case_closed: boolean (nullable = true)\n",
      " |-- dept_division: string (nullable = true)\n",
      " |-- service_request_type: string (nullable = true)\n",
      " |-- SLA_days: double (nullable = true)\n",
      " |-- case_status: string (nullable = true)\n",
      " |-- source_id: string (nullable = true)\n",
      " |-- request_address: string (nullable = true)\n",
      " |-- council_district: string (nullable = false)\n",
      " |-- num_weeks_late: double (nullable = true)\n",
      " |-- zipcode: string (nullable = true)\n",
      " |-- case_age: integer (nullable = true)\n",
      " |-- days_to_closed: integer (nullable = true)\n",
      " |-- case_lifetime: integer (nullable = true)\n",
      "\n"
     ]
    }
   ],
   "source": [
    "cases.printSchema()"
   ]
  },
  {
   "cell_type": "markdown",
   "id": "e81ff613-a8e3-40d9-9cf0-a5187f86812a",
   "metadata": {},
   "source": [
    "### 5. Extract the year from the case_closed_date column."
   ]
  },
  {
   "cell_type": "code",
   "execution_count": 100,
   "id": "7d4f2ee0-3efd-427e-bfbd-5d4fec7dba8d",
   "metadata": {},
   "outputs": [
    {
     "name": "stdout",
     "output_type": "stream",
     "text": [
      "-RECORD 0------------------------------------\n",
      " case_id              | 1014127332           \n",
      " case_opened_date     | 2018-01-01 00:42:00  \n",
      " case_closed_date     | 2018-01-01 12:29:00  \n",
      " case_due_date        | 2020-09-26 00:42:00  \n",
      " case_late            | false                \n",
      " num_days_late        | -998.5087616000001   \n",
      " case_closed          | true                 \n",
      " dept_division        | Field Operations     \n",
      " service_request_type | Stray Animal         \n",
      " SLA_days             | 999.0                \n",
      " case_status          | Closed               \n",
      " source_id            | svcCRMLS             \n",
      " request_address      | 2315  el paso st,... \n",
      " council_district     | 005                  \n",
      " num_weeks_late       | -142.6441088         \n",
      " zipcode              | 78207                \n",
      " case_age             | 2011                 \n",
      " days_to_closed       | 0                    \n",
      " case_lifetime        | 0                    \n",
      "-RECORD 1------------------------------------\n",
      " case_id              | 1014127333           \n",
      " case_opened_date     | 2018-01-01 00:46:00  \n",
      " case_closed_date     | 2018-01-03 08:11:00  \n",
      " case_due_date        | 2018-01-05 08:30:00  \n",
      " case_late            | false                \n",
      " num_days_late        | -2.0126041669999997  \n",
      " case_closed          | true                 \n",
      " dept_division        | Storm Water          \n",
      " service_request_type | Removal Of Obstru... \n",
      " SLA_days             | 4.322222222          \n",
      " case_status          | Closed               \n",
      " source_id            | svcCRMSS             \n",
      " request_address      | 2215  goliad rd, ... \n",
      " council_district     | 003                  \n",
      " num_weeks_late       | -0.28751488099999994 \n",
      " zipcode              | 78223                \n",
      " case_age             | 2011                 \n",
      " days_to_closed       | 2                    \n",
      " case_lifetime        | 2                    \n",
      "only showing top 2 rows\n",
      "\n"
     ]
    }
   ],
   "source": [
    "cases.show(2, vertical=True)"
   ]
  },
  {
   "cell_type": "code",
   "execution_count": 105,
   "id": "1dff538d-585a-460c-95a4-b4cf8d2b284d",
   "metadata": {},
   "outputs": [
    {
     "name": "stdout",
     "output_type": "stream",
     "text": [
      "-RECORD 0------------------------------------\n",
      " case_id              | 1014127332           \n",
      " case_opened_date     | 2018-01-01 00:42:00  \n",
      " case_closed_date     | 2018                 \n",
      " case_due_date        | 2020-09-26 00:42:00  \n",
      " case_late            | false                \n",
      " num_days_late        | -998.5087616000001   \n",
      " case_closed          | true                 \n",
      " dept_division        | Field Operations     \n",
      " service_request_type | Stray Animal         \n",
      " SLA_days             | 999.0                \n",
      " case_status          | Closed               \n",
      " source_id            | svcCRMLS             \n",
      " request_address      | 2315  el paso st,... \n",
      " council_district     | 005                  \n",
      " num_weeks_late       | -142.6441088         \n",
      " zipcode              | 78207                \n",
      " case_age             | 2011                 \n",
      " days_to_closed       | 0                    \n",
      " case_lifetime        | 0                    \n",
      "-RECORD 1------------------------------------\n",
      " case_id              | 1014127333           \n",
      " case_opened_date     | 2018-01-01 00:46:00  \n",
      " case_closed_date     | 2018                 \n",
      " case_due_date        | 2018-01-05 08:30:00  \n",
      " case_late            | false                \n",
      " num_days_late        | -2.0126041669999997  \n",
      " case_closed          | true                 \n",
      " dept_division        | Storm Water          \n",
      " service_request_type | Removal Of Obstru... \n",
      " SLA_days             | 4.322222222          \n",
      " case_status          | Closed               \n",
      " source_id            | svcCRMSS             \n",
      " request_address      | 2215  goliad rd, ... \n",
      " council_district     | 003                  \n",
      " num_weeks_late       | -0.28751488099999994 \n",
      " zipcode              | 78223                \n",
      " case_age             | 2011                 \n",
      " days_to_closed       | 2                    \n",
      " case_lifetime        | 2                    \n",
      "only showing top 2 rows\n",
      "\n"
     ]
    }
   ],
   "source": [
    "cases.withColumn('case_closed_date', year(\"case_closed_date\"))\\\n",
    ".show(2, vertical=True)"
   ]
  },
  {
   "cell_type": "markdown",
   "id": "58ed2339-571c-4eb1-8c33-0fb98465d2cd",
   "metadata": {},
   "source": [
    "### 6. Convert num_days_late from days to hours in new columns num_hours_late."
   ]
  },
  {
   "cell_type": "code",
   "execution_count": 119,
   "id": "f01a3945-2313-4d9a-801d-18b81f6ac784",
   "metadata": {},
   "outputs": [
    {
     "name": "stderr",
     "output_type": "stream",
     "text": [
      "                                                                                \r"
     ]
    },
    {
     "name": "stdout",
     "output_type": "stream",
     "text": [
      "+-------------------+--------------+\n",
      "|      num_days_late|num_hours_late|\n",
      "+-------------------+--------------+\n",
      "| -998.5087616000001|      -23964.2|\n",
      "|0.37216435200000003|           8.9|\n",
      "|       -29.74398148|        -713.9|\n",
      "|-2.0126041669999997|         -48.3|\n",
      "|       -3.022337963|         -72.5|\n",
      "+-------------------+--------------+\n",
      "only showing top 5 rows\n",
      "\n"
     ]
    }
   ],
   "source": [
    "cases = cases.withColumn('num_hours_late', round(expr('num_days_late*24'),1))\n",
    "\n",
    "cases.select(\"num_days_late\", \"num_hours_late\").show(5)"
   ]
  },
  {
   "cell_type": "markdown",
   "id": "6eb212d5-7d40-44f9-8f4a-41dc811a4919",
   "metadata": {},
   "source": [
    "### 7. Join the case data with the source and department data."
   ]
  },
  {
   "cell_type": "code",
   "execution_count": null,
   "id": "4ec77e98-b33c-4de9-96e7-ef0e0643a5b9",
   "metadata": {},
   "outputs": [],
   "source": [
    "cases = cases.join(source, 'source_id', 'left').drop(source)"
   ]
  },
  {
   "cell_type": "code",
   "execution_count": 110,
   "id": "854e9bc9-1f73-4db9-bb46-89a308fe35f9",
   "metadata": {},
   "outputs": [
    {
     "name": "stderr",
     "output_type": "stream",
     "text": [
      "                                                                                \r"
     ]
    },
    {
     "name": "stdout",
     "output_type": "stream",
     "text": [
      "-RECORD 0------------------------------------\n",
      " case_id              | 1014127332           \n",
      " case_opened_date     | 2018-01-01 00:42:00  \n",
      " case_closed_date     | 2018-01-01 12:29:00  \n",
      " case_due_date        | 2020-09-26 00:42:00  \n",
      " case_late            | false                \n",
      " num_days_late        | -998.5087616000001   \n",
      " case_closed          | true                 \n",
      " service_request_type | Stray Animal         \n",
      " SLA_days             | 999.0                \n",
      " case_status          | Closed               \n",
      " source_id            | svcCRMLS             \n",
      " request_address      | 2315  el paso st,... \n",
      " council_district     | 005                  \n",
      " num_weeks_late       | -142.6441088         \n",
      " zipcode              | 78207                \n",
      " case_age             | 2011                 \n",
      " days_to_closed       | 0                    \n",
      " case_lifetime        | 0                    \n",
      " num_hours_late       | -23964.2102784       \n",
      " department           | Animal Care Services \n",
      " dept_subject_to_SLA  | true                 \n",
      "-RECORD 1------------------------------------\n",
      " case_id              | 1014127333           \n",
      " case_opened_date     | 2018-01-01 00:46:00  \n",
      " case_closed_date     | 2018-01-03 08:11:00  \n",
      " case_due_date        | 2018-01-05 08:30:00  \n",
      " case_late            | false                \n",
      " num_days_late        | -2.0126041669999997  \n",
      " case_closed          | true                 \n",
      " service_request_type | Removal Of Obstru... \n",
      " SLA_days             | 4.322222222          \n",
      " case_status          | Closed               \n",
      " source_id            | svcCRMSS             \n",
      " request_address      | 2215  goliad rd, ... \n",
      " council_district     | 003                  \n",
      " num_weeks_late       | -0.28751488099999994 \n",
      " zipcode              | 78223                \n",
      " case_age             | 2011                 \n",
      " days_to_closed       | 2                    \n",
      " case_lifetime        | 2                    \n",
      " num_hours_late       | -48.302500007999996  \n",
      " department           | Trans & Cap Impro... \n",
      " dept_subject_to_SLA  | true                 \n",
      "only showing top 2 rows\n",
      "\n"
     ]
    }
   ],
   "source": [
    "cases = (\n",
    "    cases\n",
    "    # left join on dept_division\n",
    "    .join(dept, 'dept_division', 'left')\n",
    "    # drop all the columns except for standardized name, as it has much fewer unique values\n",
    "    .drop(dept.dept_division)\n",
    "    .drop(dept.dept_name)\n",
    "    .drop(cases.dept_division)\n",
    "    .withColumnRenamed('standardized_dept_name', 'department')\n",
    "    # convert last col to a boolean\n",
    "    .withColumn('dept_subject_to_SLA', col('dept_subject_to_SLA')==\"YES\")\n",
    ")\n",
    "\n",
    "cases.show(2, vertical=True)"
   ]
  },
  {
   "cell_type": "markdown",
   "id": "131cae78-f362-49c1-85f2-60c769197e18",
   "metadata": {},
   "source": [
    "### 8. Are there any cases that do not have a request source?"
   ]
  },
  {
   "cell_type": "code",
   "execution_count": 127,
   "id": "54799a00-ae48-44aa-9f86-074f5318acb1",
   "metadata": {},
   "outputs": [
    {
     "name": "stderr",
     "output_type": "stream",
     "text": [
      "                                                                                \r"
     ]
    },
    {
     "data": {
      "text/plain": [
       "0"
      ]
     },
     "execution_count": 127,
     "metadata": {},
     "output_type": "execute_result"
    }
   ],
   "source": [
    "cases.filter(cases.source_id == 'null').count()"
   ]
  },
  {
   "cell_type": "code",
   "execution_count": null,
   "id": "6605b17f-5794-41c5-887b-3a24e0fa96aa",
   "metadata": {},
   "outputs": [],
   "source": []
  },
  {
   "cell_type": "markdown",
   "id": "b9ab1124-14de-4e0b-b563-4a7212633368",
   "metadata": {},
   "source": [
    "### 9. What are the top 10 service request types in terms of number of requests?"
   ]
  },
  {
   "cell_type": "code",
   "execution_count": 121,
   "id": "b7a21bd4-af09-4793-9b10-48d8f4b3c064",
   "metadata": {},
   "outputs": [
    {
     "name": "stderr",
     "output_type": "stream",
     "text": [
      "                                                                                \r"
     ]
    },
    {
     "name": "stdout",
     "output_type": "stream",
     "text": [
      "+--------------------------------+-----+\n",
      "|            service_request_type|count|\n",
      "+--------------------------------+-----+\n",
      "|                       No Pickup|86855|\n",
      "|            Overgrown Yard/Trash|65895|\n",
      "|                    Bandit Signs|32910|\n",
      "|                    Damaged Cart|30338|\n",
      "|      Front Or Side Yard Parking|28794|\n",
      "|                    Stray Animal|26760|\n",
      "| Aggressive Animal(Non-Critical)|24882|\n",
      "|           Cart Exchange Request|22024|\n",
      "|Junk Vehicle On Private Property|21473|\n",
      "|                 Pot Hole Repair|20616|\n",
      "+--------------------------------+-----+\n",
      "only showing top 10 rows\n",
      "\n"
     ]
    }
   ],
   "source": [
    "cases.groupBy('service_request_type').count().sort(desc('count')).show(10, 50)"
   ]
  },
  {
   "cell_type": "markdown",
   "id": "1fed090b-e4cf-4df9-b8b5-115b51d9c90d",
   "metadata": {},
   "source": [
    "### 10. What are the top 10 service request types in terms of average days late?"
   ]
  },
  {
   "cell_type": "code",
   "execution_count": 123,
   "id": "b04159cb-4b45-40aa-8740-cf06472baead",
   "metadata": {},
   "outputs": [
    {
     "name": "stderr",
     "output_type": "stream",
     "text": [
      "                                                                                \r"
     ]
    },
    {
     "name": "stdout",
     "output_type": "stream",
     "text": [
      "+--------------------------------------+--------+\n",
      "|                  service_request_type|avg_late|\n",
      "+--------------------------------------+--------+\n",
      "|                    Zoning: Junk Yards|   176.0|\n",
      "|            Labeling for Used Mattress|   162.4|\n",
      "|     Record Keeping of Used Mattresses|   154.0|\n",
      "|Signage Requied for Sale of Used Mattr|   151.6|\n",
      "|              Storage of Used Mattress|   142.1|\n",
      "|                  Zoning: Recycle Yard|   135.9|\n",
      "|        Donation Container Enforcement|   131.8|\n",
      "|   License Requied Used Mattress Sales|   128.8|\n",
      "|               Traffic Signal Graffiti|    77.9|\n",
      "|                             Complaint|    72.5|\n",
      "+--------------------------------------+--------+\n",
      "only showing top 10 rows\n",
      "\n"
     ]
    }
   ],
   "source": [
    "cases.groupBy('service_request_type').agg(round(mean('num_days_late'), 1).alias('avg_late')).sort(desc('avg_late')).show(10, 50)"
   ]
  },
  {
   "cell_type": "markdown",
   "id": "354b2e23-8bec-48b7-9cce-0d8fe252bdaa",
   "metadata": {},
   "source": [
    "### 11. Does number of days late depend on department?"
   ]
  },
  {
   "cell_type": "code",
   "execution_count": 124,
   "id": "0b9333cb-eebf-4f89-bcdd-13c203fb9a72",
   "metadata": {},
   "outputs": [
    {
     "name": "stderr",
     "output_type": "stream",
     "text": [
      "                                                                                \r"
     ]
    },
    {
     "name": "stdout",
     "output_type": "stream",
     "text": [
      "+------------------------+--------------+\n",
      "|              department|avg_late_again|\n",
      "+------------------------+--------------+\n",
      "|        Customer Service|          59.5|\n",
      "|             Solid Waste|          -2.2|\n",
      "|            Metro Health|          -4.9|\n",
      "|      Parks & Recreation|          -5.3|\n",
      "|Trans & Cap Improvements|         -20.5|\n",
      "|    DSD/Code Enforcement|         -38.3|\n",
      "|    Animal Care Services|        -226.2|\n",
      "|            City Council|          null|\n",
      "+------------------------+--------------+\n",
      "\n"
     ]
    }
   ],
   "source": [
    "cases.groupby('department').agg(round(mean('num_days_late'), 1).alias('avg_late_again')).sort(desc('avg_late_again')).show(10, 50)"
   ]
  },
  {
   "cell_type": "markdown",
   "id": "7e78377f-9379-4f1c-ab34-54640c1f91a7",
   "metadata": {},
   "source": [
    "### 12. How do number of days late depend on department and request type?"
   ]
  },
  {
   "cell_type": "code",
   "execution_count": 126,
   "id": "931ad0c9-0052-4ae6-a69e-7fd851f2dc00",
   "metadata": {},
   "outputs": [
    {
     "name": "stderr",
     "output_type": "stream",
     "text": [
      "                                                                                \r"
     ]
    },
    {
     "name": "stdout",
     "output_type": "stream",
     "text": [
      "+------------------------+----------------------------------------------+-------------+\n",
      "|              department|                          service_request_type|avg_days_late|\n",
      "+------------------------+----------------------------------------------+-------------+\n",
      "|Trans & Cap Improvements|                Accident Problem Investigation|        -23.0|\n",
      "|Trans & Cap Improvements|           Herbicide - Grass in curb or street|        -12.4|\n",
      "|Trans & Cap Improvements|                    Signal Timing Modification|        -80.2|\n",
      "|Trans & Cap Improvements|                              Speed Limit Sign|        -12.1|\n",
      "|Trans & Cap Improvements|                      Tree- Visual Obstruction|         -2.6|\n",
      "|Trans & Cap Improvements|                  Left-Turn Signal New Request|        -54.2|\n",
      "|Trans & Cap Improvements|         Street/Drainage Problem Investigation|        -36.9|\n",
      "|Trans & Cap Improvements|                               Street Sweeping|         -5.5|\n",
      "|Trans & Cap Improvements|Traffic Signal Ops and Maintenance - Emergency|         -1.7|\n",
      "|Trans & Cap Improvements|                                 Street Debris|         -1.6|\n",
      "+------------------------+----------------------------------------------+-------------+\n",
      "only showing top 10 rows\n",
      "\n"
     ]
    }
   ],
   "source": [
    "cases.groupby('department', 'service_request_type').agg(round(avg('num_days_late'), 1).alias('avg_days_late')).sort(desc('department')).show(10, 50)"
   ]
  },
  {
   "cell_type": "code",
   "execution_count": null,
   "id": "31eca7ea-b376-4306-816a-febca4e9cf3d",
   "metadata": {},
   "outputs": [],
   "source": []
  }
 ],
 "metadata": {
  "kernelspec": {
   "display_name": "Python 3 (ipykernel)",
   "language": "python",
   "name": "python3"
  },
  "language_info": {
   "codemirror_mode": {
    "name": "ipython",
    "version": 3
   },
   "file_extension": ".py",
   "mimetype": "text/x-python",
   "name": "python",
   "nbconvert_exporter": "python",
   "pygments_lexer": "ipython3",
   "version": "3.9.13"
  }
 },
 "nbformat": 4,
 "nbformat_minor": 5
}
