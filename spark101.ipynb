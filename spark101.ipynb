{
 "cells": [
  {
   "cell_type": "markdown",
   "id": "a1599086-3ebf-4722-9df3-e5d8639c9a93",
   "metadata": {},
   "source": [
    "# Spark 101"
   ]
  },
  {
   "cell_type": "markdown",
   "id": "83cf76ce-be90-464e-9dd5-a779a3e84dcf",
   "metadata": {},
   "source": [
    "# Exercises\n",
    "Using the repo setup directions, setup a new local and remote repository named spark-exercises. The local version of your repo should live inside of ~/codeup-data-science. This repo should be named spark-exercises\n",
    "\n",
    "Save this work in your spark-exercises repo. Then add, commit, and push your changes.\n",
    "\n",
    "Create a jupyter notebook or python script named spark101 for this exercise."
   ]
  },
  {
   "cell_type": "markdown",
   "id": "b3b00dcb-892d-47f2-9c83-2b02babf4650",
   "metadata": {},
   "source": [
    "# Imports"
   ]
  },
  {
   "cell_type": "code",
   "execution_count": 1,
   "id": "1ef71fd1-80d6-4f57-9507-eeae756e04fd",
   "metadata": {},
   "outputs": [
    {
     "name": "stderr",
     "output_type": "stream",
     "text": [
      "Setting default log level to \"WARN\".\n",
      "To adjust logging level use sc.setLogLevel(newLevel). For SparkR, use setLogLevel(newLevel).\n",
      "23/07/05 09:50:02 WARN NativeCodeLoader: Unable to load native-hadoop library for your platform... using builtin-java classes where applicable\n"
     ]
    }
   ],
   "source": [
    "# standard imports\n",
    "import pandas as pd\n",
    "import numpy as np\n",
    "\n",
    "#import spark for python! \n",
    "import pyspark\n",
    "from pyspark.sql.functions import concat, lit\n",
    "from pyspark.sql.functions import when\n",
    "from pyspark.sql.functions import col\n",
    "from pyspark.sql.functions import expr\n",
    "from pyspark.sql.functions import month, year, quarter, round\n",
    "from pyspark.sql.functions import asc, desc\n",
    "from pydataset import data\n",
    "from pyspark.sql.functions import regexp_extract, regexp_replace\n",
    "from pyspark.sql.functions import min, max, sum, count, mean, avg\n",
    "from pyspark.sql.functions import udf\n",
    "from pyspark.sql.types import FloatType\n",
    "\n",
    "#create the spark session\n",
    "spark = pyspark.sql.SparkSession.builder.getOrCreate()\n",
    "\n",
    "# ignore warnings\n",
    "import warnings\n",
    "warnings.filterwarnings('ignore')"
   ]
  },
  {
   "cell_type": "markdown",
   "id": "46463cf6-55f0-4bb6-b2e6-8e81932ad734",
   "metadata": {
    "tags": []
   },
   "source": [
    "## 1. Create a spark data frame that contains your favorite programming languages.\n",
    "\n",
    "* The name of the column should be language\n",
    "* View the schema of the dataframe\n",
    "* Output the shape of the dataframe\n",
    "* Show the first 5 records in the dataframe\n"
   ]
  },
  {
   "cell_type": "code",
   "execution_count": 2,
   "id": "1527da5c-c384-4093-90e1-1fcfba1dc9d6",
   "metadata": {},
   "outputs": [
    {
     "data": {
      "text/html": [
       "<div>\n",
       "<style scoped>\n",
       "    .dataframe tbody tr th:only-of-type {\n",
       "        vertical-align: middle;\n",
       "    }\n",
       "\n",
       "    .dataframe tbody tr th {\n",
       "        vertical-align: top;\n",
       "    }\n",
       "\n",
       "    .dataframe thead th {\n",
       "        text-align: right;\n",
       "    }\n",
       "</style>\n",
       "<table border=\"1\" class=\"dataframe\">\n",
       "  <thead>\n",
       "    <tr style=\"text-align: right;\">\n",
       "      <th></th>\n",
       "      <th>n</th>\n",
       "      <th>language</th>\n",
       "    </tr>\n",
       "  </thead>\n",
       "  <tbody>\n",
       "    <tr>\n",
       "      <th>0</th>\n",
       "      <td>0</td>\n",
       "      <td>javascript</td>\n",
       "    </tr>\n",
       "    <tr>\n",
       "      <th>1</th>\n",
       "      <td>1</td>\n",
       "      <td>python</td>\n",
       "    </tr>\n",
       "    <tr>\n",
       "      <th>2</th>\n",
       "      <td>2</td>\n",
       "      <td>r</td>\n",
       "    </tr>\n",
       "    <tr>\n",
       "      <th>3</th>\n",
       "      <td>3</td>\n",
       "      <td>c++</td>\n",
       "    </tr>\n",
       "    <tr>\n",
       "      <th>4</th>\n",
       "      <td>4</td>\n",
       "      <td>python</td>\n",
       "    </tr>\n",
       "    <tr>\n",
       "      <th>5</th>\n",
       "      <td>5</td>\n",
       "      <td>python</td>\n",
       "    </tr>\n",
       "    <tr>\n",
       "      <th>6</th>\n",
       "      <td>6</td>\n",
       "      <td>r</td>\n",
       "    </tr>\n",
       "    <tr>\n",
       "      <th>7</th>\n",
       "      <td>7</td>\n",
       "      <td>python</td>\n",
       "    </tr>\n",
       "    <tr>\n",
       "      <th>8</th>\n",
       "      <td>8</td>\n",
       "      <td>javascript</td>\n",
       "    </tr>\n",
       "    <tr>\n",
       "      <th>9</th>\n",
       "      <td>9</td>\n",
       "      <td>python</td>\n",
       "    </tr>\n",
       "    <tr>\n",
       "      <th>10</th>\n",
       "      <td>10</td>\n",
       "      <td>c++</td>\n",
       "    </tr>\n",
       "    <tr>\n",
       "      <th>11</th>\n",
       "      <td>11</td>\n",
       "      <td>java</td>\n",
       "    </tr>\n",
       "    <tr>\n",
       "      <th>12</th>\n",
       "      <td>12</td>\n",
       "      <td>python</td>\n",
       "    </tr>\n",
       "    <tr>\n",
       "      <th>13</th>\n",
       "      <td>13</td>\n",
       "      <td>r</td>\n",
       "    </tr>\n",
       "    <tr>\n",
       "      <th>14</th>\n",
       "      <td>14</td>\n",
       "      <td>r</td>\n",
       "    </tr>\n",
       "    <tr>\n",
       "      <th>15</th>\n",
       "      <td>15</td>\n",
       "      <td>c++</td>\n",
       "    </tr>\n",
       "    <tr>\n",
       "      <th>16</th>\n",
       "      <td>16</td>\n",
       "      <td>c++</td>\n",
       "    </tr>\n",
       "    <tr>\n",
       "      <th>17</th>\n",
       "      <td>17</td>\n",
       "      <td>python</td>\n",
       "    </tr>\n",
       "    <tr>\n",
       "      <th>18</th>\n",
       "      <td>18</td>\n",
       "      <td>c++</td>\n",
       "    </tr>\n",
       "    <tr>\n",
       "      <th>19</th>\n",
       "      <td>19</td>\n",
       "      <td>java</td>\n",
       "    </tr>\n",
       "  </tbody>\n",
       "</table>\n",
       "</div>"
      ],
      "text/plain": [
       "     n    language\n",
       "0    0  javascript\n",
       "1    1      python\n",
       "2    2           r\n",
       "3    3         c++\n",
       "4    4      python\n",
       "5    5      python\n",
       "6    6           r\n",
       "7    7      python\n",
       "8    8  javascript\n",
       "9    9      python\n",
       "10  10         c++\n",
       "11  11        java\n",
       "12  12      python\n",
       "13  13           r\n",
       "14  14           r\n",
       "15  15         c++\n",
       "16  16         c++\n",
       "17  17      python\n",
       "18  18         c++\n",
       "19  19        java"
      ]
     },
     "execution_count": 2,
     "metadata": {},
     "output_type": "execute_result"
    }
   ],
   "source": [
    "np.random.seed(452)\n",
    "\n",
    "pandas_dataframe = pd.DataFrame(\n",
    "    dict(n=np.arange(20), language=np.random.choice((\"python\", 'java', 'javascript', 'r', 'c++', 'sql'), 20))\n",
    ")\n",
    "\n",
    "pandas_dataframe"
   ]
  },
  {
   "cell_type": "code",
   "execution_count": 3,
   "id": "ada09746-ab24-4a7d-a4f4-f28f0f136a60",
   "metadata": {},
   "outputs": [
    {
     "data": {
      "text/plain": [
       "DataFrame[n: bigint, language: string]"
      ]
     },
     "execution_count": 3,
     "metadata": {},
     "output_type": "execute_result"
    }
   ],
   "source": [
    "# create spark dataframe \n",
    "df = spark.createDataFrame(pandas_dataframe)\n",
    "df"
   ]
  },
  {
   "cell_type": "code",
   "execution_count": 4,
   "id": "876d3cf3-c59a-465e-8e1c-9894facd8b03",
   "metadata": {},
   "outputs": [
    {
     "data": {
      "text/plain": [
       "StructType([StructField('n', LongType(), True), StructField('language', StringType(), True)])"
      ]
     },
     "execution_count": 4,
     "metadata": {},
     "output_type": "execute_result"
    }
   ],
   "source": [
    "# printSchema\n",
    "df.schema"
   ]
  },
  {
   "cell_type": "code",
   "execution_count": 5,
   "id": "eda9e81f-a0d4-4a34-a946-0fecf4246116",
   "metadata": {},
   "outputs": [
    {
     "name": "stderr",
     "output_type": "stream",
     "text": [
      "                                                                                \r"
     ]
    },
    {
     "data": {
      "text/plain": [
       "20"
      ]
     },
     "execution_count": 5,
     "metadata": {},
     "output_type": "execute_result"
    }
   ],
   "source": [
    "# number of rows\n",
    "df.count()"
   ]
  },
  {
   "cell_type": "code",
   "execution_count": 6,
   "id": "f4a9bf0a-efe6-442d-bda5-7b9aac54c907",
   "metadata": {},
   "outputs": [
    {
     "data": {
      "text/plain": [
       "2"
      ]
     },
     "execution_count": 6,
     "metadata": {},
     "output_type": "execute_result"
    }
   ],
   "source": [
    "# number of columns\n",
    "len(df.columns)"
   ]
  },
  {
   "cell_type": "code",
   "execution_count": 7,
   "id": "8c1054ac-d7aa-4135-a4eb-ab7408212d60",
   "metadata": {},
   "outputs": [
    {
     "name": "stdout",
     "output_type": "stream",
     "text": [
      "+---+----------+\n",
      "|  n|  language|\n",
      "+---+----------+\n",
      "|  0|javascript|\n",
      "|  1|    python|\n",
      "|  2|         r|\n",
      "|  3|       c++|\n",
      "|  4|    python|\n",
      "|  5|    python|\n",
      "|  6|         r|\n",
      "|  7|    python|\n",
      "|  8|javascript|\n",
      "|  9|    python|\n",
      "| 10|       c++|\n",
      "| 11|      java|\n",
      "| 12|    python|\n",
      "| 13|         r|\n",
      "| 14|         r|\n",
      "| 15|       c++|\n",
      "| 16|       c++|\n",
      "| 17|    python|\n",
      "| 18|       c++|\n",
      "| 19|      java|\n",
      "+---+----------+\n",
      "\n"
     ]
    }
   ],
   "source": [
    "# Show the first 5 records in the dataframe\n",
    "df.show()"
   ]
  },
  {
   "cell_type": "markdown",
   "id": "24b49b75-df70-4e08-a009-50fe3bbcc582",
   "metadata": {},
   "source": [
    "# 2. Load the mpg dataset as a spark dataframe.\n",
    "\n",
    "a. Create 1 column of output that contains a message like the one below:\n",
    "\n",
    "\n",
    "- The 1999 audi a4 has a 4 cylinder engine.\n",
    "For each vehicle.\n",
    "\n",
    "b. Transform the trans column so that it only contains either manual or auto."
   ]
  },
  {
   "cell_type": "code",
   "execution_count": 8,
   "id": "13ca1432-43a3-42a7-b1cc-3ef439918070",
   "metadata": {},
   "outputs": [
    {
     "data": {
      "text/plain": [
       "DataFrame[manufacturer: string, model: string, displ: double, year: bigint, cyl: bigint, trans: string, drv: string, cty: bigint, hwy: bigint, fl: string, class: string]"
      ]
     },
     "execution_count": 8,
     "metadata": {},
     "output_type": "execute_result"
    }
   ],
   "source": [
    "df = spark.createDataFrame(data('mpg'))\n",
    "df"
   ]
  },
  {
   "cell_type": "code",
   "execution_count": 9,
   "id": "d05e5803-cc79-48b4-b369-fe5b6e5ab3d4",
   "metadata": {},
   "outputs": [
    {
     "name": "stdout",
     "output_type": "stream",
     "text": [
      "+------------+------------------+-----+----+---+----------+---+---+---+---+-------+\n",
      "|manufacturer|             model|displ|year|cyl|     trans|drv|cty|hwy| fl|  class|\n",
      "+------------+------------------+-----+----+---+----------+---+---+---+---+-------+\n",
      "|        audi|                a4|  1.8|1999|  4|  auto(l5)|  f| 18| 29|  p|compact|\n",
      "|        audi|                a4|  1.8|1999|  4|manual(m5)|  f| 21| 29|  p|compact|\n",
      "|        audi|                a4|  2.0|2008|  4|manual(m6)|  f| 20| 31|  p|compact|\n",
      "|        audi|                a4|  2.0|2008|  4|  auto(av)|  f| 21| 30|  p|compact|\n",
      "|        audi|                a4|  2.8|1999|  6|  auto(l5)|  f| 16| 26|  p|compact|\n",
      "|        audi|                a4|  2.8|1999|  6|manual(m5)|  f| 18| 26|  p|compact|\n",
      "|        audi|                a4|  3.1|2008|  6|  auto(av)|  f| 18| 27|  p|compact|\n",
      "|        audi|        a4 quattro|  1.8|1999|  4|manual(m5)|  4| 18| 26|  p|compact|\n",
      "|        audi|        a4 quattro|  1.8|1999|  4|  auto(l5)|  4| 16| 25|  p|compact|\n",
      "|        audi|        a4 quattro|  2.0|2008|  4|manual(m6)|  4| 20| 28|  p|compact|\n",
      "|        audi|        a4 quattro|  2.0|2008|  4|  auto(s6)|  4| 19| 27|  p|compact|\n",
      "|        audi|        a4 quattro|  2.8|1999|  6|  auto(l5)|  4| 15| 25|  p|compact|\n",
      "|        audi|        a4 quattro|  2.8|1999|  6|manual(m5)|  4| 17| 25|  p|compact|\n",
      "|        audi|        a4 quattro|  3.1|2008|  6|  auto(s6)|  4| 17| 25|  p|compact|\n",
      "|        audi|        a4 quattro|  3.1|2008|  6|manual(m6)|  4| 15| 25|  p|compact|\n",
      "|        audi|        a6 quattro|  2.8|1999|  6|  auto(l5)|  4| 15| 24|  p|midsize|\n",
      "|        audi|        a6 quattro|  3.1|2008|  6|  auto(s6)|  4| 17| 25|  p|midsize|\n",
      "|        audi|        a6 quattro|  4.2|2008|  8|  auto(s6)|  4| 16| 23|  p|midsize|\n",
      "|   chevrolet|c1500 suburban 2wd|  5.3|2008|  8|  auto(l4)|  r| 14| 20|  r|    suv|\n",
      "|   chevrolet|c1500 suburban 2wd|  5.3|2008|  8|  auto(l4)|  r| 11| 15|  e|    suv|\n",
      "+------------+------------------+-----+----+---+----------+---+---+---+---+-------+\n",
      "only showing top 20 rows\n",
      "\n"
     ]
    }
   ],
   "source": [
    "df.show()"
   ]
  },
  {
   "cell_type": "code",
   "execution_count": 10,
   "id": "ec503db3-247a-4b75-b6c7-806d62ca9736",
   "metadata": {},
   "outputs": [
    {
     "name": "stdout",
     "output_type": "stream",
     "text": [
      "+-------+\n",
      "|  class|\n",
      "+-------+\n",
      "|compact|\n",
      "|compact|\n",
      "|compact|\n",
      "|compact|\n",
      "|compact|\n",
      "|compact|\n",
      "|compact|\n",
      "|compact|\n",
      "|compact|\n",
      "|compact|\n",
      "|compact|\n",
      "|compact|\n",
      "|compact|\n",
      "|compact|\n",
      "|compact|\n",
      "|midsize|\n",
      "|midsize|\n",
      "|midsize|\n",
      "|    suv|\n",
      "|    suv|\n",
      "+-------+\n",
      "only showing top 20 rows\n",
      "\n"
     ]
    }
   ],
   "source": [
    "df.select('class').show()"
   ]
  },
  {
   "cell_type": "markdown",
   "id": "c28be9ab-3e63-408d-9ad9-72b69a76dea8",
   "metadata": {},
   "source": [
    "- The 1999 audi a4 has a 4 cylinder engine."
   ]
  },
  {
   "cell_type": "code",
   "execution_count": 11,
   "id": "7066024e-3acb-4efa-83c0-1e96ba6ebd81",
   "metadata": {},
   "outputs": [
    {
     "name": "stdout",
     "output_type": "stream",
     "text": [
      "+------------+------------------+-----+----+---+----------+---+---+---+---+-------+--------------------------------------------------------------+\n",
      "|manufacturer|model             |displ|year|cyl|trans     |drv|cty|hwy|fl |class  |vehicle_info                                                  |\n",
      "+------------+------------------+-----+----+---+----------+---+---+---+---+-------+--------------------------------------------------------------+\n",
      "|audi        |a4                |1.8  |1999|4  |auto(l5)  |f  |18 |29 |p  |compact|The 1999 audi a4 has a 4 cylinder engine.                     |\n",
      "|audi        |a4                |1.8  |1999|4  |manual(m5)|f  |21 |29 |p  |compact|The 1999 audi a4 has a 4 cylinder engine.                     |\n",
      "|audi        |a4                |2.0  |2008|4  |manual(m6)|f  |20 |31 |p  |compact|The 2008 audi a4 has a 4 cylinder engine.                     |\n",
      "|audi        |a4                |2.0  |2008|4  |auto(av)  |f  |21 |30 |p  |compact|The 2008 audi a4 has a 4 cylinder engine.                     |\n",
      "|audi        |a4                |2.8  |1999|6  |auto(l5)  |f  |16 |26 |p  |compact|The 1999 audi a4 has a 6 cylinder engine.                     |\n",
      "|audi        |a4                |2.8  |1999|6  |manual(m5)|f  |18 |26 |p  |compact|The 1999 audi a4 has a 6 cylinder engine.                     |\n",
      "|audi        |a4                |3.1  |2008|6  |auto(av)  |f  |18 |27 |p  |compact|The 2008 audi a4 has a 6 cylinder engine.                     |\n",
      "|audi        |a4 quattro        |1.8  |1999|4  |manual(m5)|4  |18 |26 |p  |compact|The 1999 audi a4 quattro has a 4 cylinder engine.             |\n",
      "|audi        |a4 quattro        |1.8  |1999|4  |auto(l5)  |4  |16 |25 |p  |compact|The 1999 audi a4 quattro has a 4 cylinder engine.             |\n",
      "|audi        |a4 quattro        |2.0  |2008|4  |manual(m6)|4  |20 |28 |p  |compact|The 2008 audi a4 quattro has a 4 cylinder engine.             |\n",
      "|audi        |a4 quattro        |2.0  |2008|4  |auto(s6)  |4  |19 |27 |p  |compact|The 2008 audi a4 quattro has a 4 cylinder engine.             |\n",
      "|audi        |a4 quattro        |2.8  |1999|6  |auto(l5)  |4  |15 |25 |p  |compact|The 1999 audi a4 quattro has a 6 cylinder engine.             |\n",
      "|audi        |a4 quattro        |2.8  |1999|6  |manual(m5)|4  |17 |25 |p  |compact|The 1999 audi a4 quattro has a 6 cylinder engine.             |\n",
      "|audi        |a4 quattro        |3.1  |2008|6  |auto(s6)  |4  |17 |25 |p  |compact|The 2008 audi a4 quattro has a 6 cylinder engine.             |\n",
      "|audi        |a4 quattro        |3.1  |2008|6  |manual(m6)|4  |15 |25 |p  |compact|The 2008 audi a4 quattro has a 6 cylinder engine.             |\n",
      "|audi        |a6 quattro        |2.8  |1999|6  |auto(l5)  |4  |15 |24 |p  |midsize|The 1999 audi a6 quattro has a 6 cylinder engine.             |\n",
      "|audi        |a6 quattro        |3.1  |2008|6  |auto(s6)  |4  |17 |25 |p  |midsize|The 2008 audi a6 quattro has a 6 cylinder engine.             |\n",
      "|audi        |a6 quattro        |4.2  |2008|8  |auto(s6)  |4  |16 |23 |p  |midsize|The 2008 audi a6 quattro has a 8 cylinder engine.             |\n",
      "|chevrolet   |c1500 suburban 2wd|5.3  |2008|8  |auto(l4)  |r  |14 |20 |r  |suv    |The 2008 chevrolet c1500 suburban 2wd has a 8 cylinder engine.|\n",
      "|chevrolet   |c1500 suburban 2wd|5.3  |2008|8  |auto(l4)  |r  |11 |15 |e  |suv    |The 2008 chevrolet c1500 suburban 2wd has a 8 cylinder engine.|\n",
      "+------------+------------------+-----+----+---+----------+---+---+---+---+-------+--------------------------------------------------------------+\n",
      "only showing top 20 rows\n",
      "\n"
     ]
    }
   ],
   "source": [
    "df.select(df.manufacturer, df.model, df.displ, df.year, df.cyl, df.trans, df.drv, df.cty, df.hwy, df.fl, df['class'],\n",
    "          concat(lit('The '),df.year, lit(' '),\n",
    "           df.manufacturer, lit(' '),\n",
    "           df.model, lit(' has a '),\n",
    "           df.cyl, lit(' cylinder engine.')).alias('vehicle_info')\n",
    ").show(truncate=False) # truncate will expand the column"
   ]
  },
  {
   "cell_type": "code",
   "execution_count": 12,
   "id": "0017f31b-54e3-4aa2-bcc3-1f5186004526",
   "metadata": {},
   "outputs": [],
   "source": [
    "df = df.select(df.manufacturer, df.model, df.displ, df.year, df.cyl, df.trans, df.drv, df.cty, df.hwy, df.fl, df['class'],\n",
    "    regexp_extract('trans', r'(\\D+)\\(', 1).alias('auto_manual'),\n",
    ")"
   ]
  },
  {
   "cell_type": "code",
   "execution_count": 13,
   "id": "59646c1b-92df-4bda-9149-1eca8f5dbcd4",
   "metadata": {
    "tags": []
   },
   "outputs": [
    {
     "name": "stdout",
     "output_type": "stream",
     "text": [
      "+------------+-------------------+-----+----+---+----------+---+---+---+---+-------+-----------+\n",
      "|manufacturer|              model|displ|year|cyl|     trans|drv|cty|hwy| fl|  class|auto_manual|\n",
      "+------------+-------------------+-----+----+---+----------+---+---+---+---+-------+-----------+\n",
      "|        audi|                 a4|  1.8|1999|  4|manual(m5)|  f| 21| 29|  p|compact|     manual|\n",
      "|        audi|                 a4|  2.0|2008|  4|manual(m6)|  f| 20| 31|  p|compact|     manual|\n",
      "|        audi|                 a4|  2.8|1999|  6|manual(m5)|  f| 18| 26|  p|compact|     manual|\n",
      "|        audi|         a4 quattro|  1.8|1999|  4|manual(m5)|  4| 18| 26|  p|compact|     manual|\n",
      "|        audi|         a4 quattro|  2.0|2008|  4|manual(m6)|  4| 20| 28|  p|compact|     manual|\n",
      "|        audi|         a4 quattro|  2.8|1999|  6|manual(m5)|  4| 17| 25|  p|compact|     manual|\n",
      "|        audi|         a4 quattro|  3.1|2008|  6|manual(m6)|  4| 15| 25|  p|compact|     manual|\n",
      "|   chevrolet|           corvette|  5.7|1999|  8|manual(m6)|  r| 16| 26|  p|2seater|     manual|\n",
      "|   chevrolet|           corvette|  6.2|2008|  8|manual(m6)|  r| 16| 26|  p|2seater|     manual|\n",
      "|   chevrolet|           corvette|  7.0|2008|  8|manual(m6)|  r| 15| 24|  p|2seater|     manual|\n",
      "|       dodge|  dakota pickup 4wd|  3.7|2008|  6|manual(m6)|  4| 15| 19|  r| pickup|     manual|\n",
      "|       dodge|  dakota pickup 4wd|  3.9|1999|  6|manual(m5)|  4| 14| 17|  r| pickup|     manual|\n",
      "|       dodge|  dakota pickup 4wd|  5.2|1999|  8|manual(m5)|  4| 11| 17|  r| pickup|     manual|\n",
      "|       dodge|ram 1500 pickup 4wd|  4.7|2008|  8|manual(m6)|  4| 12| 16|  r| pickup|     manual|\n",
      "|       dodge|ram 1500 pickup 4wd|  4.7|2008|  8|manual(m6)|  4| 12| 16|  r| pickup|     manual|\n",
      "|       dodge|ram 1500 pickup 4wd|  4.7|2008|  8|manual(m6)|  4|  9| 12|  e| pickup|     manual|\n",
      "|       dodge|ram 1500 pickup 4wd|  5.2|1999|  8|manual(m5)|  4| 11| 16|  r| pickup|     manual|\n",
      "|        ford|       explorer 4wd|  4.0|1999|  6|manual(m5)|  4| 15| 19|  r|    suv|     manual|\n",
      "|        ford|    f150 pickup 4wd|  4.2|1999|  6|manual(m5)|  4| 14| 17|  r| pickup|     manual|\n",
      "|        ford|    f150 pickup 4wd|  4.6|1999|  8|manual(m5)|  4| 13| 16|  r| pickup|     manual|\n",
      "+------------+-------------------+-----+----+---+----------+---+---+---+---+-------+-----------+\n",
      "only showing top 20 rows\n",
      "\n"
     ]
    }
   ],
   "source": [
    "df.filter(df['auto_manual'] == 'manual').show()"
   ]
  },
  {
   "cell_type": "markdown",
   "id": "01ffc171-2045-44ca-971d-61ab14b9cffe",
   "metadata": {},
   "source": [
    "## 3. Load the tips dataset as a spark dataframe."
   ]
  },
  {
   "cell_type": "code",
   "execution_count": 14,
   "id": "c93cf9d8-aab2-4bbc-9e90-e9a89bbea32b",
   "metadata": {},
   "outputs": [
    {
     "data": {
      "text/plain": [
       "DataFrame[total_bill: double, tip: double, sex: string, smoker: string, day: string, time: string, size: bigint]"
      ]
     },
     "execution_count": 14,
     "metadata": {},
     "output_type": "execute_result"
    }
   ],
   "source": [
    "tips_df = spark.createDataFrame(data('tips'))\n",
    "tips_df"
   ]
  },
  {
   "cell_type": "code",
   "execution_count": 15,
   "id": "0ac4daeb-5296-451f-98df-4902e9b8b8a5",
   "metadata": {},
   "outputs": [
    {
     "name": "stdout",
     "output_type": "stream",
     "text": [
      "+----------+----+------+------+---+------+----+\n",
      "|total_bill| tip|   sex|smoker|day|  time|size|\n",
      "+----------+----+------+------+---+------+----+\n",
      "|     16.99|1.01|Female|    No|Sun|Dinner|   2|\n",
      "|     10.34|1.66|  Male|    No|Sun|Dinner|   3|\n",
      "|     21.01| 3.5|  Male|    No|Sun|Dinner|   3|\n",
      "|     23.68|3.31|  Male|    No|Sun|Dinner|   2|\n",
      "|     24.59|3.61|Female|    No|Sun|Dinner|   4|\n",
      "|     25.29|4.71|  Male|    No|Sun|Dinner|   4|\n",
      "|      8.77| 2.0|  Male|    No|Sun|Dinner|   2|\n",
      "|     26.88|3.12|  Male|    No|Sun|Dinner|   4|\n",
      "|     15.04|1.96|  Male|    No|Sun|Dinner|   2|\n",
      "|     14.78|3.23|  Male|    No|Sun|Dinner|   2|\n",
      "|     10.27|1.71|  Male|    No|Sun|Dinner|   2|\n",
      "|     35.26| 5.0|Female|    No|Sun|Dinner|   4|\n",
      "|     15.42|1.57|  Male|    No|Sun|Dinner|   2|\n",
      "|     18.43| 3.0|  Male|    No|Sun|Dinner|   4|\n",
      "|     14.83|3.02|Female|    No|Sun|Dinner|   2|\n",
      "|     21.58|3.92|  Male|    No|Sun|Dinner|   2|\n",
      "|     10.33|1.67|Female|    No|Sun|Dinner|   3|\n",
      "|     16.29|3.71|  Male|    No|Sun|Dinner|   3|\n",
      "|     16.97| 3.5|Female|    No|Sun|Dinner|   3|\n",
      "|     20.65|3.35|  Male|    No|Sat|Dinner|   3|\n",
      "+----------+----+------+------+---+------+----+\n",
      "only showing top 20 rows\n",
      "\n"
     ]
    }
   ],
   "source": [
    "tips_df.show()"
   ]
  },
  {
   "cell_type": "code",
   "execution_count": 16,
   "id": "8c6528f2-1758-4b1d-a064-1b2a9238696d",
   "metadata": {},
   "outputs": [
    {
     "name": "stdout",
     "output_type": "stream",
     "text": [
      "+----------+----+------+------+---+------+----+\n",
      "|total_bill| tip|   sex|smoker|day|  time|size|\n",
      "+----------+----+------+------+---+------+----+\n",
      "|     20.29|3.21|  Male|   Yes|Sat|Dinner|   2|\n",
      "|     34.65|3.68|  Male|   Yes|Sun|Dinner|   4|\n",
      "|     11.35| 2.5|Female|   Yes|Fri|Dinner|   2|\n",
      "|     23.33|5.65|  Male|   Yes|Sun|Dinner|   2|\n",
      "|     17.51| 3.0|Female|   Yes|Sun|Dinner|   2|\n",
      "|     45.35| 3.5|  Male|   Yes|Sun|Dinner|   3|\n",
      "|     15.38| 3.0|Female|   Yes|Fri|Dinner|   2|\n",
      "|     23.17| 6.5|  Male|   Yes|Sun|Dinner|   4|\n",
      "|     38.01| 3.0|  Male|   Yes|Sat|Dinner|   4|\n",
      "|     40.55| 3.0|  Male|   Yes|Sun|Dinner|   2|\n",
      "|      44.3| 2.5|Female|   Yes|Sat|Dinner|   3|\n",
      "|      20.9| 3.5|Female|   Yes|Sun|Dinner|   3|\n",
      "|     10.59|1.61|Female|   Yes|Sat|Dinner|   2|\n",
      "|     30.46| 2.0|  Male|   Yes|Sun|Dinner|   5|\n",
      "|     22.42|3.48|Female|   Yes|Sat|Dinner|   2|\n",
      "|     18.15| 3.5|Female|   Yes|Sun|Dinner|   3|\n",
      "|     12.16| 2.2|  Male|   Yes|Fri| Lunch|   2|\n",
      "|      23.1| 4.0|  Male|   Yes|Sun|Dinner|   3|\n",
      "|     15.36|1.64|  Male|   Yes|Sat|Dinner|   2|\n",
      "|     15.69| 1.5|  Male|   Yes|Sun|Dinner|   2|\n",
      "+----------+----+------+------+---+------+----+\n",
      "only showing top 20 rows\n",
      "\n"
     ]
    }
   ],
   "source": [
    "tips_df.sort(tips_df.smoker.desc()).show()"
   ]
  },
  {
   "cell_type": "markdown",
   "id": "2eabefc2-81b1-4623-9830-e71d4e9c7ff0",
   "metadata": {},
   "source": [
    "### a. What percentage of observations are smokers?"
   ]
  },
  {
   "cell_type": "code",
   "execution_count": 17,
   "id": "1a9f591b-8551-4475-a7ff-862b2cf7a996",
   "metadata": {},
   "outputs": [
    {
     "name": "stdout",
     "output_type": "stream",
     "text": [
      "+----------+----+------+------+----+------+----+\n",
      "|total_bill| tip|   sex|smoker| day|  time|size|\n",
      "+----------+----+------+------+----+------+----+\n",
      "|     38.01| 3.0|  Male|   Yes| Sat|Dinner|   4|\n",
      "|     11.24|1.76|  Male|   Yes| Sat|Dinner|   2|\n",
      "|     20.29|3.21|  Male|   Yes| Sat|Dinner|   2|\n",
      "|     13.81| 2.0|  Male|   Yes| Sat|Dinner|   2|\n",
      "|     11.02|1.98|  Male|   Yes| Sat|Dinner|   2|\n",
      "|     18.29|3.76|  Male|   Yes| Sat|Dinner|   4|\n",
      "|      3.07| 1.0|Female|   Yes| Sat|Dinner|   1|\n",
      "|     15.01|2.09|  Male|   Yes| Sat|Dinner|   2|\n",
      "|     26.86|3.14|Female|   Yes| Sat|Dinner|   2|\n",
      "|     25.28| 5.0|Female|   Yes| Sat|Dinner|   2|\n",
      "|     17.92|3.08|  Male|   Yes| Sat|Dinner|   2|\n",
      "|     19.44| 3.0|  Male|   Yes|Thur| Lunch|   2|\n",
      "|     32.68| 5.0|  Male|   Yes|Thur| Lunch|   2|\n",
      "|     28.97| 3.0|  Male|   Yes| Fri|Dinner|   2|\n",
      "|      5.75| 1.0|Female|   Yes| Fri|Dinner|   2|\n",
      "|     16.32| 4.3|Female|   Yes| Fri|Dinner|   2|\n",
      "|     40.17|4.73|  Male|   Yes| Fri|Dinner|   4|\n",
      "|     27.28| 4.0|  Male|   Yes| Fri|Dinner|   2|\n",
      "|     12.03| 1.5|  Male|   Yes| Fri|Dinner|   2|\n",
      "|     21.01| 3.0|  Male|   Yes| Fri|Dinner|   2|\n",
      "+----------+----+------+------+----+------+----+\n",
      "only showing top 20 rows\n",
      "\n"
     ]
    }
   ],
   "source": [
    "tips_df.filter(tips_df.smoker == 'Yes').show()"
   ]
  },
  {
   "cell_type": "code",
   "execution_count": 18,
   "id": "779c5ada-2dd3-4d51-97a3-2051c7ff82cf",
   "metadata": {},
   "outputs": [
    {
     "name": "stdout",
     "output_type": "stream",
     "text": [
      "+-----------+\n",
      "|avg(smoker)|\n",
      "+-----------+\n",
      "|       null|\n",
      "+-----------+\n",
      "\n"
     ]
    }
   ],
   "source": [
    "#calculate the average smokers\n",
    "tips_df.filter(tips_df.smoker == 'Yes').select(\n",
    "    avg(tips_df.smoker)\n",
    ").show()"
   ]
  },
  {
   "cell_type": "code",
   "execution_count": 19,
   "id": "2718a1a9-8aea-4bbc-8fd5-64b291635ce1",
   "metadata": {},
   "outputs": [
    {
     "name": "stderr",
     "output_type": "stream",
     "text": [
      "[Stage 24:======================================>                  (8 + 4) / 12]\r"
     ]
    },
    {
     "name": "stdout",
     "output_type": "stream",
     "text": [
      "+------+-------------+\n",
      "|smoker|count(smoker)|\n",
      "+------+-------------+\n",
      "|    No|          151|\n",
      "|   Yes|           93|\n",
      "+------+-------------+\n",
      "\n"
     ]
    },
    {
     "name": "stderr",
     "output_type": "stream",
     "text": [
      "                                                                                \r"
     ]
    }
   ],
   "source": [
    "#groupby/groupBy\n",
    "tips_df.groupby(tips_df.smoker).agg(count(tips_df.smoker)).show()  #.agg(mean(tips_df['smoker'])).show()"
   ]
  },
  {
   "cell_type": "code",
   "execution_count": 20,
   "id": "e5044ce1-9b4e-4c2d-aee1-399eccce0f7a",
   "metadata": {},
   "outputs": [
    {
     "name": "stdout",
     "output_type": "stream",
     "text": [
      "+------------------+\n",
      "|        smoker_yes|\n",
      "+------------------+\n",
      "|38.114754098360656|\n",
      "+------------------+\n",
      "\n"
     ]
    }
   ],
   "source": [
    "tips_df.select((count(when(col('smoker') == 'Yes', True))/count('*')*100).alias('smoker_yes')).show()"
   ]
  },
  {
   "cell_type": "code",
   "execution_count": 21,
   "id": "2b8cc34f-e07c-42d3-83cf-9722a693dff1",
   "metadata": {},
   "outputs": [
    {
     "name": "stdout",
     "output_type": "stream",
     "text": [
      "The percentage of smokers is: 38.114754098360656%\n"
     ]
    }
   ],
   "source": [
    "#groupby/groupBy\n",
    "smoker_percentage = tips_df.select((count(when(col('smoker') == 'Yes', True)\n",
    "                                         ) / count('*')).alias('smoker_percentage')\n",
    "                                  ).collect()[0]['smoker_percentage'] * 100\n",
    "print(f\"The percentage of smokers is: {smoker_percentage}%\")"
   ]
  },
  {
   "cell_type": "code",
   "execution_count": null,
   "id": "f774aad5-ce3f-4fed-a43a-10122757f8ad",
   "metadata": {},
   "outputs": [],
   "source": []
  },
  {
   "cell_type": "markdown",
   "id": "5e795b2f-50f2-45ac-b216-12ad44638bc3",
   "metadata": {},
   "source": [
    "### b. Create a column that contains the tip percentage"
   ]
  },
  {
   "cell_type": "code",
   "execution_count": 22,
   "id": "98bd9763-bd15-4b6e-99ec-ec8a14ec25f7",
   "metadata": {},
   "outputs": [
    {
     "name": "stdout",
     "output_type": "stream",
     "text": [
      "+--------+--------+----------------+----------------+----------+\n",
      "|min(tip)|max(tip)|        avg(tip)|        avg(tip)|count(tip)|\n",
      "+--------+--------+----------------+----------------+----------+\n",
      "|     1.0|    10.0|2.99827868852459|2.99827868852459|       244|\n",
      "+--------+--------+----------------+----------------+----------+\n",
      "\n"
     ]
    }
   ],
   "source": [
    "#use min, max, and calculate average highway mileage\n",
    "tips_df.select(\n",
    "    min(tips_df.tip),\n",
    "    max(tips_df.tip),\n",
    "    avg(tips_df.tip),\n",
    "    mean(tips_df.tip),\n",
    "    count(col('tip'))\n",
    ").show(5)"
   ]
  },
  {
   "cell_type": "markdown",
   "id": "f7a73a8a-1a82-47cb-aefa-118547c74e01",
   "metadata": {},
   "source": [
    "Explain that a tip is calculated by multiplying the total amount of the bill by the tip percentage expressed as a decimal. ° For instance: The total bill for a service is $27. The percentage to tip is typically 15% (0.15), 18% (0.18), or 20% (0.20)."
   ]
  },
  {
   "cell_type": "code",
   "execution_count": 23,
   "id": "69e813e2-cdd6-4fe2-84ea-8b79bf107a69",
   "metadata": {},
   "outputs": [
    {
     "name": "stdout",
     "output_type": "stream",
     "text": [
      "+--------------------------+\n",
      "|((tip / total_bill) * 100)|\n",
      "+--------------------------+\n",
      "|        5.9446733372572105|\n",
      "|        16.054158607350097|\n",
      "|        16.658733936220845|\n",
      "|         13.97804054054054|\n",
      "|        14.680764538430255|\n",
      "|         18.62396204033215|\n",
      "|         22.80501710376283|\n",
      "|        11.607142857142858|\n",
      "|        13.031914893617023|\n",
      "|        21.853856562922868|\n",
      "|         16.65043816942551|\n",
      "|        14.180374361883155|\n",
      "|        10.181582360570687|\n",
      "|        16.277807921866522|\n",
      "|        20.364126770060686|\n",
      "|        18.164967562557923|\n",
      "|         16.16650532429816|\n",
      "|        22.774708410067525|\n",
      "|        20.624631703005306|\n",
      "|        16.222760290556902|\n",
      "+--------------------------+\n",
      "only showing top 20 rows\n",
      "\n"
     ]
    }
   ],
   "source": [
    "tips_df.select(\n",
    "    expr('((tip/total_bill)*100)')\n",
    ").show()"
   ]
  },
  {
   "cell_type": "code",
   "execution_count": 24,
   "id": "9687d6cd-4305-43d6-bd59-0375ca284ad1",
   "metadata": {},
   "outputs": [],
   "source": [
    "tips_df = tips_df.withColumn(\n",
    "    'tip_percentage', # new column name\n",
    "    round((col('tip')/col('total_bill')*100)) # how the new column is created\n",
    ")"
   ]
  },
  {
   "cell_type": "code",
   "execution_count": 25,
   "id": "064df558-a5d2-4239-942a-495ad7a92c65",
   "metadata": {},
   "outputs": [
    {
     "name": "stdout",
     "output_type": "stream",
     "text": [
      "+----------+----+------+------+---+------+----+--------------+\n",
      "|total_bill| tip|   sex|smoker|day|  time|size|tip_percentage|\n",
      "+----------+----+------+------+---+------+----+--------------+\n",
      "|     16.99|1.01|Female|    No|Sun|Dinner|   2|           6.0|\n",
      "|     10.34|1.66|  Male|    No|Sun|Dinner|   3|          16.0|\n",
      "|     21.01| 3.5|  Male|    No|Sun|Dinner|   3|          17.0|\n",
      "|     23.68|3.31|  Male|    No|Sun|Dinner|   2|          14.0|\n",
      "|     24.59|3.61|Female|    No|Sun|Dinner|   4|          15.0|\n",
      "|     25.29|4.71|  Male|    No|Sun|Dinner|   4|          19.0|\n",
      "|      8.77| 2.0|  Male|    No|Sun|Dinner|   2|          23.0|\n",
      "|     26.88|3.12|  Male|    No|Sun|Dinner|   4|          12.0|\n",
      "|     15.04|1.96|  Male|    No|Sun|Dinner|   2|          13.0|\n",
      "|     14.78|3.23|  Male|    No|Sun|Dinner|   2|          22.0|\n",
      "|     10.27|1.71|  Male|    No|Sun|Dinner|   2|          17.0|\n",
      "|     35.26| 5.0|Female|    No|Sun|Dinner|   4|          14.0|\n",
      "|     15.42|1.57|  Male|    No|Sun|Dinner|   2|          10.0|\n",
      "|     18.43| 3.0|  Male|    No|Sun|Dinner|   4|          16.0|\n",
      "|     14.83|3.02|Female|    No|Sun|Dinner|   2|          20.0|\n",
      "|     21.58|3.92|  Male|    No|Sun|Dinner|   2|          18.0|\n",
      "|     10.33|1.67|Female|    No|Sun|Dinner|   3|          16.0|\n",
      "|     16.29|3.71|  Male|    No|Sun|Dinner|   3|          23.0|\n",
      "|     16.97| 3.5|Female|    No|Sun|Dinner|   3|          21.0|\n",
      "|     20.65|3.35|  Male|    No|Sat|Dinner|   3|          16.0|\n",
      "+----------+----+------+------+---+------+----+--------------+\n",
      "only showing top 20 rows\n",
      "\n"
     ]
    }
   ],
   "source": [
    "tips_df.show()"
   ]
  },
  {
   "cell_type": "markdown",
   "id": "e955b979-0f5d-4d0d-abcd-1368f5e91c55",
   "metadata": {},
   "source": [
    "### c. Calculate the average tip percentage for each combination of sex and smoker."
   ]
  },
  {
   "cell_type": "code",
   "execution_count": 26,
   "id": "098b64f1-bd0b-4929-8954-cdc6ae01d48c",
   "metadata": {},
   "outputs": [
    {
     "name": "stdout",
     "output_type": "stream",
     "text": [
      "+------+-----------+\n",
      "|   sex|avg(smoker)|\n",
      "+------+-----------+\n",
      "|Female|       null|\n",
      "|  Male|       null|\n",
      "+------+-----------+\n",
      "\n"
     ]
    }
   ],
   "source": [
    "tips_df.groupBy(tips_df.sex).agg(mean(tips_df.smoker)).show()"
   ]
  },
  {
   "cell_type": "code",
   "execution_count": 27,
   "id": "3e6e7465-8857-4445-93e5-c5a01fc96689",
   "metadata": {},
   "outputs": [
    {
     "name": "stdout",
     "output_type": "stream",
     "text": [
      "+------+------------------+------------------+\n",
      "|   sex|                No|               Yes|\n",
      "+------+------------------+------------------+\n",
      "|Female|15.685185185185185|18.242424242424242|\n",
      "|  Male|16.103092783505154|15.283333333333333|\n",
      "+------+------------------+------------------+\n",
      "\n"
     ]
    }
   ],
   "source": [
    "#groupby and pivot\n",
    "tips_df.groupby('sex').pivot('smoker').avg('tip_percentage').show()"
   ]
  },
  {
   "cell_type": "code",
   "execution_count": 28,
   "id": "95797ce1-50b0-425d-b046-60208624920d",
   "metadata": {},
   "outputs": [
    {
     "name": "stdout",
     "output_type": "stream",
     "text": [
      "+------+------------------+------------------+\n",
      "|   sex|                No|               Yes|\n",
      "+------+------------------+------------------+\n",
      "|Female|15.685185185185185|18.242424242424242|\n",
      "|  Male|16.103092783505154|15.283333333333333|\n",
      "+------+------------------+------------------+\n",
      "\n"
     ]
    }
   ],
   "source": [
    "#groupby and pivot\n",
    "tips_df.groupby('sex').pivot('smoker').mean('tip_percentage').show()"
   ]
  },
  {
   "cell_type": "markdown",
   "id": "8bb55d3b-863c-466c-84ab-ce081739e1bc",
   "metadata": {},
   "source": [
    "## 4. Use the seattle weather dataset referenced in the lesson to answer the questions below."
   ]
  },
  {
   "cell_type": "code",
   "execution_count": 29,
   "id": "421633be-ed67-4521-a4e5-5f312b7708b5",
   "metadata": {},
   "outputs": [
    {
     "name": "stdout",
     "output_type": "stream",
     "text": [
      "+----------+-------------+--------+--------+----+-------+\n",
      "|      date|precipitation|temp_max|temp_min|wind|weather|\n",
      "+----------+-------------+--------+--------+----+-------+\n",
      "|2012-01-01|          0.0|    12.8|     5.0| 4.7|drizzle|\n",
      "|2012-01-02|         10.9|    10.6|     2.8| 4.5|   rain|\n",
      "|2012-01-03|          0.8|    11.7|     7.2| 2.3|   rain|\n",
      "|2012-01-04|         20.3|    12.2|     5.6| 4.7|   rain|\n",
      "|2012-01-05|          1.3|     8.9|     2.8| 6.1|   rain|\n",
      "|2012-01-06|          2.5|     4.4|     2.2| 2.2|   rain|\n",
      "+----------+-------------+--------+--------+----+-------+\n",
      "only showing top 6 rows\n",
      "\n"
     ]
    }
   ],
   "source": [
    "from vega_datasets import data\n",
    "\n",
    "weather = data.seattle_weather().assign(date=lambda df: df.date.astype(str))\n",
    "weather = spark.createDataFrame(weather)\n",
    "weather.show(6)"
   ]
  },
  {
   "cell_type": "markdown",
   "id": "92551d1b-1c13-4d1c-9980-148b1ffa44f3",
   "metadata": {},
   "source": [
    "### * Convert the temperatures to fahrenheit."
   ]
  },
  {
   "cell_type": "code",
   "execution_count": 30,
   "id": "77084ab9-bbdc-4108-9cfa-30e81c0a4d27",
   "metadata": {},
   "outputs": [
    {
     "name": "stdout",
     "output_type": "stream",
     "text": [
      "+----------+-------------+--------+--------+----+-------+\n",
      "|      date|precipitation|temp_max|temp_min|wind|weather|\n",
      "+----------+-------------+--------+--------+----+-------+\n",
      "|2012-01-01|          0.0|    55.0|     5.0| 4.7|drizzle|\n",
      "|2012-01-02|         10.9|    51.0|     2.8| 4.5|   rain|\n",
      "|2012-01-03|          0.8|    53.0|     7.2| 2.3|   rain|\n",
      "|2012-01-04|         20.3|    54.0|     5.6| 4.7|   rain|\n",
      "|2012-01-05|          1.3|    48.0|     2.8| 6.1|   rain|\n",
      "|2012-01-06|          2.5|    40.0|     2.2| 2.2|   rain|\n",
      "|2012-01-07|          0.0|    45.0|     2.8| 2.3|   rain|\n",
      "|2012-01-08|          0.0|    50.0|     2.8| 2.0|    sun|\n",
      "|2012-01-09|          4.3|    49.0|     5.0| 3.4|   rain|\n",
      "|2012-01-10|          1.0|    43.0|     0.6| 3.4|   rain|\n",
      "|2012-01-11|          0.0|    43.0|    -1.1| 5.1|    sun|\n",
      "|2012-01-12|          0.0|    43.0|    -1.7| 1.9|    sun|\n",
      "|2012-01-13|          0.0|    41.0|    -2.8| 1.3|    sun|\n",
      "|2012-01-14|          4.1|    40.0|     0.6| 5.3|   snow|\n",
      "|2012-01-15|          5.3|    34.0|    -3.3| 3.2|   snow|\n",
      "|2012-01-16|          2.5|    35.0|    -2.8| 5.0|   snow|\n",
      "|2012-01-17|          8.1|    38.0|     0.0| 5.6|   snow|\n",
      "|2012-01-18|         19.8|    32.0|    -2.8| 5.0|   snow|\n",
      "|2012-01-19|         15.2|    30.0|    -2.8| 1.6|   snow|\n",
      "|2012-01-20|         13.5|    45.0|    -1.1| 2.3|   snow|\n",
      "+----------+-------------+--------+--------+----+-------+\n",
      "only showing top 20 rows\n",
      "\n"
     ]
    }
   ],
   "source": [
    "weather.withColumn('temp_max', round(col('temp_max')*(9/5)+32)).show()"
   ]
  },
  {
   "cell_type": "code",
   "execution_count": 31,
   "id": "9f1734d8-76b6-45b8-b9f8-772ed4be4190",
   "metadata": {},
   "outputs": [],
   "source": [
    "tips_df = tips_df.withColumn(\n",
    "    'tip_percentage', # new column name\n",
    "    round((col('tip')/col('total_bill')*100)) # how the new column is created\n",
    ")"
   ]
  },
  {
   "cell_type": "code",
   "execution_count": 32,
   "id": "013a5b85-0703-4b69-9cfb-c16885ebf389",
   "metadata": {},
   "outputs": [
    {
     "name": "stdout",
     "output_type": "stream",
     "text": [
      "+----------+-------------+--------+--------+----+-------+\n",
      "|      date|precipitation|temp_max|temp_min|wind|weather|\n",
      "+----------+-------------+--------+--------+----+-------+\n",
      "|2012-01-01|          0.0|    55.0|    41.0| 4.7|drizzle|\n",
      "|2012-01-02|         10.9|    51.0|    37.0| 4.5|   rain|\n",
      "|2012-01-03|          0.8|    53.0|    45.0| 2.3|   rain|\n",
      "|2012-01-04|         20.3|    54.0|    42.0| 4.7|   rain|\n",
      "|2012-01-05|          1.3|    48.0|    37.0| 6.1|   rain|\n",
      "|2012-01-06|          2.5|    40.0|    36.0| 2.2|   rain|\n",
      "|2012-01-07|          0.0|    45.0|    37.0| 2.3|   rain|\n",
      "|2012-01-08|          0.0|    50.0|    37.0| 2.0|    sun|\n",
      "|2012-01-09|          4.3|    49.0|    41.0| 3.4|   rain|\n",
      "|2012-01-10|          1.0|    43.0|    33.0| 3.4|   rain|\n",
      "|2012-01-11|          0.0|    43.0|    30.0| 5.1|    sun|\n",
      "|2012-01-12|          0.0|    43.0|    29.0| 1.9|    sun|\n",
      "|2012-01-13|          0.0|    41.0|    27.0| 1.3|    sun|\n",
      "|2012-01-14|          4.1|    40.0|    33.0| 5.3|   snow|\n",
      "|2012-01-15|          5.3|    34.0|    26.0| 3.2|   snow|\n",
      "|2012-01-16|          2.5|    35.0|    27.0| 5.0|   snow|\n",
      "|2012-01-17|          8.1|    38.0|    32.0| 5.6|   snow|\n",
      "|2012-01-18|         19.8|    32.0|    27.0| 5.0|   snow|\n",
      "|2012-01-19|         15.2|    30.0|    27.0| 1.6|   snow|\n",
      "|2012-01-20|         13.5|    45.0|    30.0| 2.3|   snow|\n",
      "+----------+-------------+--------+--------+----+-------+\n",
      "only showing top 20 rows\n",
      "\n"
     ]
    }
   ],
   "source": [
    "weather.withColumn('temp_max', round(col('temp_max')*(9/5)+32)\n",
    "                  ).withColumn('temp_min', round(col('temp_min')*(9/5)+32)).show()"
   ]
  },
  {
   "cell_type": "markdown",
   "id": "26b51ad3-4a0f-4269-a366-448c13ee7406",
   "metadata": {},
   "source": [
    "### * Which month has the most rain, on average?"
   ]
  },
  {
   "cell_type": "code",
   "execution_count": 58,
   "id": "fec2e5ab-13cd-4766-b15f-5ad1651d1a55",
   "metadata": {},
   "outputs": [
    {
     "data": {
      "text/plain": [
       "Row(month=11, most_rain_on_avg=5.354166666666667)"
      ]
     },
     "execution_count": 58,
     "metadata": {},
     "output_type": "execute_result"
    }
   ],
   "source": [
    "(\n",
    "    weather.withColumn(\"month\", month(\"date\"))\n",
    "    .groupBy(\"month\")\n",
    "    .agg(mean(\"precipitation\").alias(\"most_rain_on_avg\"))\n",
    "    .sort(desc(\"most_rain_on_avg\"))\n",
    "    .first()\n",
    ")"
   ]
  },
  {
   "cell_type": "markdown",
   "id": "d8d63302-8eec-43e8-b9a7-ac85e8311c5e",
   "metadata": {},
   "source": [
    "### * Which year was the windiest?"
   ]
  },
  {
   "cell_type": "code",
   "execution_count": 34,
   "id": "baa7d7b6-bf4b-4458-a957-a9f0e4605c7e",
   "metadata": {},
   "outputs": [
    {
     "data": {
      "text/plain": [
       "Row(year=2012, windiest=3.4008196721311483)"
      ]
     },
     "execution_count": 34,
     "metadata": {},
     "output_type": "execute_result"
    }
   ],
   "source": [
    "(\n",
    "    weather.withColumn(\"year\", year(\"date\"))\n",
    "    .groupBy(\"year\")\n",
    "    .agg(mean(\"wind\").alias(\"windiest\"))\n",
    "    .sort(desc(\"windiest\"))\n",
    "    .first()\n",
    ")"
   ]
  },
  {
   "cell_type": "markdown",
   "id": "f5bf0ea3-adc7-4673-afee-93eb6de81c8e",
   "metadata": {},
   "source": [
    "### * What is the most frequent type of weather in January?"
   ]
  },
  {
   "cell_type": "code",
   "execution_count": 35,
   "id": "1fa9b2ea-989b-4d85-8bb6-7eb58ca10da8",
   "metadata": {},
   "outputs": [
    {
     "name": "stdout",
     "output_type": "stream",
     "text": [
      "+----------+-------------+--------+--------+----+-------+\n",
      "|      date|precipitation|temp_max|temp_min|wind|weather|\n",
      "+----------+-------------+--------+--------+----+-------+\n",
      "|2012-01-01|          0.0|    12.8|     5.0| 4.7|drizzle|\n",
      "|2012-01-02|         10.9|    10.6|     2.8| 4.5|   rain|\n",
      "|2012-01-03|          0.8|    11.7|     7.2| 2.3|   rain|\n",
      "|2012-01-04|         20.3|    12.2|     5.6| 4.7|   rain|\n",
      "|2012-01-05|          1.3|     8.9|     2.8| 6.1|   rain|\n",
      "|2012-01-06|          2.5|     4.4|     2.2| 2.2|   rain|\n",
      "|2012-01-07|          0.0|     7.2|     2.8| 2.3|   rain|\n",
      "|2012-01-08|          0.0|    10.0|     2.8| 2.0|    sun|\n",
      "|2012-01-09|          4.3|     9.4|     5.0| 3.4|   rain|\n",
      "|2012-01-10|          1.0|     6.1|     0.6| 3.4|   rain|\n",
      "|2012-01-11|          0.0|     6.1|    -1.1| 5.1|    sun|\n",
      "|2012-01-12|          0.0|     6.1|    -1.7| 1.9|    sun|\n",
      "|2012-01-13|          0.0|     5.0|    -2.8| 1.3|    sun|\n",
      "|2012-01-14|          4.1|     4.4|     0.6| 5.3|   snow|\n",
      "|2012-01-15|          5.3|     1.1|    -3.3| 3.2|   snow|\n",
      "|2012-01-16|          2.5|     1.7|    -2.8| 5.0|   snow|\n",
      "|2012-01-17|          8.1|     3.3|     0.0| 5.6|   snow|\n",
      "|2012-01-18|         19.8|     0.0|    -2.8| 5.0|   snow|\n",
      "|2012-01-19|         15.2|    -1.1|    -2.8| 1.6|   snow|\n",
      "|2012-01-20|         13.5|     7.2|    -1.1| 2.3|   snow|\n",
      "+----------+-------------+--------+--------+----+-------+\n",
      "only showing top 20 rows\n",
      "\n"
     ]
    }
   ],
   "source": [
    "weather.show()"
   ]
  },
  {
   "cell_type": "code",
   "execution_count": 36,
   "id": "3f999e5c-6736-4a6c-aa91-d77ad2157041",
   "metadata": {},
   "outputs": [
    {
     "name": "stdout",
     "output_type": "stream",
     "text": [
      "+-----+-----------------------------+\n",
      "|month|most_freq_type_of_weather_jan|\n",
      "+-----+-----------------------------+\n",
      "|    1|                          124|\n",
      "+-----+-----------------------------+\n",
      "\n"
     ]
    }
   ],
   "source": [
    "(\n",
    "    weather.withColumn(\"month\", month(\"date\"))\n",
    "    .filter(month(\"date\") == 1)\n",
    "    .groupBy(\"month\")\n",
    "    .agg(count(col(\"weather\")).alias(\"most_freq_type_of_weather_jan\"))\n",
    "    .show()\n",
    ")"
   ]
  },
  {
   "cell_type": "code",
   "execution_count": 37,
   "id": "9d44945c-29ba-453e-942f-b7fda34ad72f",
   "metadata": {},
   "outputs": [
    {
     "name": "stdout",
     "output_type": "stream",
     "text": [
      "+-------+-----+\n",
      "|weather|count|\n",
      "+-------+-----+\n",
      "|drizzle|   10|\n",
      "|   rain|   35|\n",
      "|    sun|   33|\n",
      "|   snow|    8|\n",
      "|    fog|   38|\n",
      "+-------+-----+\n",
      "\n"
     ]
    }
   ],
   "source": [
    "(\n",
    "    weather.withColumn(\"month\", month(\"date\"))\n",
    "    .filter(month(\"date\") == 1)\n",
    "    .groupBy(\"weather\")\n",
    "    .count()\n",
    "    .show()\n",
    ")"
   ]
  },
  {
   "cell_type": "code",
   "execution_count": 38,
   "id": "3df3b179-60f8-4493-ad0b-ba6de0478194",
   "metadata": {},
   "outputs": [
    {
     "name": "stdout",
     "output_type": "stream",
     "text": [
      "+-------+-----+\n",
      "|weather|count|\n",
      "+-------+-----+\n",
      "|    fog|   38|\n",
      "+-------+-----+\n",
      "only showing top 1 row\n",
      "\n"
     ]
    }
   ],
   "source": [
    "weather.withColumn(\"month\", month(\"date\"))\\\n",
    "    .filter(month(\"date\") == 1)\\\n",
    "    .groupBy(\"weather\")\\\n",
    "    .count()\\\n",
    "    .orderBy('count', ascending=False)\\\n",
    "    .show(1)\n"
   ]
  },
  {
   "cell_type": "markdown",
   "id": "7a7bacf4-b16d-43ca-bf33-1eaa07b6a325",
   "metadata": {},
   "source": [
    "### * What is the average high and low temperature on sunny days in July in 2013 and 2014?"
   ]
  },
  {
   "cell_type": "code",
   "execution_count": 39,
   "id": "2b2bed0e-6f7f-4613-af44-38452d5bb281",
   "metadata": {},
   "outputs": [
    {
     "name": "stdout",
     "output_type": "stream",
     "text": [
      "+-------+-------------+-------------+\n",
      "|weather|min(temp_min)|max(temp_max)|\n",
      "+-------+-------------+-------------+\n",
      "|    sun|         11.1|         31.7|\n",
      "+-------+-------------+-------------+\n",
      "\n"
     ]
    }
   ],
   "source": [
    "(\n",
    "    weather.filter(month(\"date\") == 7)\n",
    "    .filter(year(\"date\") == 2013)\n",
    "    .where(col('weather') == 'sun')\n",
    "    .groupBy(\"weather\")\n",
    "    .agg(min(\"temp_min\"),max('temp_max'))\n",
    "    .show()\n",
    ")\n"
   ]
  },
  {
   "cell_type": "code",
   "execution_count": 40,
   "id": "ee7f23ec-20ff-4c67-9f2f-55cecf2daa3b",
   "metadata": {},
   "outputs": [
    {
     "name": "stdout",
     "output_type": "stream",
     "text": [
      "+-------------+\n",
      "|min(temp_min)|\n",
      "+-------------+\n",
      "|         11.1|\n",
      "+-------------+\n",
      "\n"
     ]
    }
   ],
   "source": [
    "#groupby and pivot\n",
    "(\n",
    "    weather.filter(year(\"date\") == 2013)\n",
    "    .filter(month(\"date\") == 7)\n",
    "    .agg(min('temp_min'))\n",
    "    .show()\n",
    ")"
   ]
  },
  {
   "cell_type": "code",
   "execution_count": 41,
   "id": "6ca0d33b-20d4-45ba-90cf-d091223ab4ce",
   "metadata": {},
   "outputs": [
    {
     "name": "stdout",
     "output_type": "stream",
     "text": [
      "+-------+----------+-------------+-------------+\n",
      "|weather|year(date)|min(temp_min)|max(temp_max)|\n",
      "+-------+----------+-------------+-------------+\n",
      "|    sun|      2012|          9.4|         26.7|\n",
      "+-------+----------+-------------+-------------+\n",
      "\n"
     ]
    }
   ],
   "source": [
    "(\n",
    "    weather.filter(year(\"date\") == 2013 & 2014)\n",
    "    .filter(month(\"date\") ==7)\n",
    "    .where(col('weather') == 'sun')\n",
    "    .groupBy('weather', year('date'))\n",
    "    .agg(min('temp_min'), max('temp_max'))\n",
    "    .show()\n",
    ")"
   ]
  },
  {
   "cell_type": "code",
   "execution_count": 42,
   "id": "fe077c45-f13a-4a1f-926e-f5ff37def01f",
   "metadata": {},
   "outputs": [
    {
     "name": "stdout",
     "output_type": "stream",
     "text": [
      "+-------+----------+------------------+------------------+\n",
      "|weather|year(date)|      avg_min_temp|      avg_max_temp|\n",
      "+-------+----------+------------------+------------------+\n",
      "|    sun|      2013|13.981481481481483|26.585185185185193|\n",
      "|    sun|      2014|14.400000000000002|            27.092|\n",
      "+-------+----------+------------------+------------------+\n",
      "\n"
     ]
    }
   ],
   "source": [
    "(\n",
    "    weather.filter(year(\"date\").isin([2013, 2014]))\n",
    "    .filter(month(\"date\") == 7)\n",
    "    .where(col('weather') == 'sun')\n",
    "    .groupBy('weather', year('date'))\n",
    "    .agg(avg('temp_min').alias('avg_min_temp'), avg('temp_max').alias('avg_max_temp'))\n",
    "    .show()\n",
    ")"
   ]
  },
  {
   "cell_type": "markdown",
   "id": "44be5308-4927-405f-839c-28d5c48457a6",
   "metadata": {},
   "source": [
    "### * What percentage of days were rainy in q3 of 2015?"
   ]
  },
  {
   "cell_type": "code",
   "execution_count": 43,
   "id": "f098e287-cd51-46b6-a81a-c6f2d1448a08",
   "metadata": {},
   "outputs": [
    {
     "name": "stdout",
     "output_type": "stream",
     "text": [
      "Percentage of rainy days in Q3 2015:  2.1739130434782608\n"
     ]
    }
   ],
   "source": [
    "total_days = weather.filter(year(\"date\") == 2015)\\\n",
    "                    .filter(quarter(\"date\") == 3)\\\n",
    "                    .count()\n",
    "\n",
    "rainy_days = weather.filter(year(\"date\") == 2015)\\\n",
    "                     .filter(quarter(\"date\") == 3)\\\n",
    "                     .filter(col('weather') == 'rain')\\\n",
    "                     .count()\n",
    "\n",
    "percentage = (rainy_days / total_days) * 100\n",
    "\n",
    "print(\"Percentage of rainy days in Q3 2015: \", percentage)\n"
   ]
  },
  {
   "cell_type": "markdown",
   "id": "eece1072-e7b0-4e58-affb-f122ada3f8ac",
   "metadata": {},
   "source": [
    "### * For each year, find what percentage of days it rained (had non-zero precipitation)."
   ]
  },
  {
   "cell_type": "code",
   "execution_count": 44,
   "id": "016b0bb0-5887-427a-bf2a-90f6910a75a8",
   "metadata": {},
   "outputs": [
    {
     "name": "stdout",
     "output_type": "stream",
     "text": [
      "Percentage of rainy days in 2012:  2.1739130434782608\n"
     ]
    }
   ],
   "source": [
    "total_days_2012 = weather.filter(year(\"date\") == 2012)\\\n",
    "                    .count()\n",
    "\n",
    "rainy_days_2012 = weather.filter(year(\"date\") == 2012)\\\n",
    "                    .filter(col('weather') == 'rain')\\\n",
    "                    .count()\n",
    "\n",
    "percentage = (rainy_days / total_days) * 100\n",
    "\n",
    "print(\"Percentage of rainy days in 2012: \", percentage)"
   ]
  },
  {
   "cell_type": "code",
   "execution_count": 45,
   "id": "1d98fd87-ccd4-43a5-bcec-857f2ab34679",
   "metadata": {},
   "outputs": [
    {
     "data": {
      "text/plain": [
       "92"
      ]
     },
     "execution_count": 45,
     "metadata": {},
     "output_type": "execute_result"
    }
   ],
   "source": [
    "total_days"
   ]
  },
  {
   "cell_type": "code",
   "execution_count": 46,
   "id": "0bacdb76-58a4-40a8-b191-689108f43c11",
   "metadata": {},
   "outputs": [
    {
     "data": {
      "text/plain": [
       "2"
      ]
     },
     "execution_count": 46,
     "metadata": {},
     "output_type": "execute_result"
    }
   ],
   "source": [
    "rainy_days"
   ]
  },
  {
   "cell_type": "code",
   "execution_count": 47,
   "id": "c766a463-89b3-4334-8dc4-3ad26304f748",
   "metadata": {},
   "outputs": [],
   "source": [
    "total_day = weather.withColumn(\"year\", year(\"date\"))\\\n",
    "                    .groupBy(\"year\")\\\n",
    "                    .count()\n",
    "\n",
    "rainy_day = weather.withColumn('year', year('date'))\\\n",
    "                    .filter(col('weather') == 'rain')\\\n",
    "                    .groupBy('year')\\\n",
    "                    .count().alias('count1')\n",
    "\n",
    "# percentage = (rainy_days.count / total_days.count) * 100\n"
   ]
  },
  {
   "cell_type": "code",
   "execution_count": 48,
   "id": "8e93a3b7-054e-459b-a4cc-9d2163b2bcd1",
   "metadata": {},
   "outputs": [],
   "source": [
    "total_day = total_day.withColumnRenamed('count', 'cnt1')"
   ]
  },
  {
   "cell_type": "code",
   "execution_count": 49,
   "id": "a41bcfc5-d58d-4eab-a0c9-463a0bb05781",
   "metadata": {},
   "outputs": [],
   "source": [
    "rainy_day = rainy_day.withColumnRenamed('count', 'cnt2')"
   ]
  },
  {
   "cell_type": "code",
   "execution_count": 50,
   "id": "f9dc73f6-4adb-4ade-81d0-028c28cbe15d",
   "metadata": {},
   "outputs": [],
   "source": [
    "new_weather = total_day.join(rainy_day, 'year', 'inner')"
   ]
  },
  {
   "cell_type": "code",
   "execution_count": 51,
   "id": "adb6e581-6af2-43e1-ad99-d8aafb8d5b2e",
   "metadata": {},
   "outputs": [
    {
     "name": "stdout",
     "output_type": "stream",
     "text": [
      "+----+----+----+------------------------+\n",
      "|year|cnt1|cnt2|percentage_of_rainy_days|\n",
      "+----+----+----+------------------------+\n",
      "|2012| 366| 191|       52.18579234972678|\n",
      "|2013| 365|  60|       16.43835616438356|\n",
      "|2014| 365|   3|       0.821917808219178|\n",
      "|2015| 365|   5|        1.36986301369863|\n",
      "+----+----+----+------------------------+\n",
      "\n"
     ]
    }
   ],
   "source": [
    "new_weather.withColumn('percentage_of_rainy_days', ((col('cnt2'))/(col('cnt1'))*100)).show()"
   ]
  },
  {
   "cell_type": "code",
   "execution_count": 52,
   "id": "251be022-3fd7-4b69-b1ff-5dbf0b348214",
   "metadata": {},
   "outputs": [],
   "source": [
    "from pyspark.sql.functions import year, when, col"
   ]
  },
  {
   "cell_type": "code",
   "execution_count": 53,
   "id": "2403833b-ff13-4b7e-812b-4cdc4af86d35",
   "metadata": {},
   "outputs": [
    {
     "name": "stdout",
     "output_type": "stream",
     "text": [
      "+----+----------+----------+------------------------+\n",
      "|Year|Total_Days|Rainy_Days|Percentage_of_Rainy_Days|\n",
      "+----+----------+----------+------------------------+\n",
      "|2012|       366|       177|       48.36065573770492|\n",
      "|2013|       365|       152|       41.64383561643836|\n",
      "|2014|       365|       150|        41.0958904109589|\n",
      "|2015|       365|       144|       39.45205479452055|\n",
      "+----+----------+----------+------------------------+\n",
      "\n"
     ]
    }
   ],
   "source": [
    "# Calculate total days and rainy days for each year\n",
    "weather_with_year = weather.withColumn(\"Year\", year(\"date\"))\n",
    "total_days_per_year = weather_with_year.groupBy(\"Year\").count()\n",
    "total_days_per_year = total_days_per_year.withColumnRenamed(\"count\", \"Total_Days\")\n",
    "rainy_days_per_year = weather_with_year.where(col('precipitation') > 0).groupBy(\"Year\").count()\n",
    "rainy_days_per_year = rainy_days_per_year.withColumnRenamed(\"count\", \"Rainy_Days\")\n",
    "\n",
    "# Join the two dataframes on Year\n",
    "result = total_days_per_year.join(rainy_days_per_year, [\"Year\"], \"inner\")\n",
    "\n",
    "# Calculate the percentage of rainy days\n",
    "result = result.withColumn(\"Percentage_of_Rainy_Days\", (col(\"Rainy_Days\") / col(\"Total_Days\")) * 100)\n",
    "\n",
    "result.show()\n"
   ]
  },
  {
   "cell_type": "code",
   "execution_count": 54,
   "id": "89c3858a-9135-4734-869e-02d31c5c8492",
   "metadata": {},
   "outputs": [
    {
     "name": "stdout",
     "output_type": "stream",
     "text": [
      "+----------+-------------+--------+--------+----+-------+----+\n",
      "|      date|precipitation|temp_max|temp_min|wind|weather|Year|\n",
      "+----------+-------------+--------+--------+----+-------+----+\n",
      "|2012-01-01|          0.0|    12.8|     5.0| 4.7|drizzle|2012|\n",
      "|2012-01-02|         10.9|    10.6|     2.8| 4.5|   rain|2012|\n",
      "|2012-01-03|          0.8|    11.7|     7.2| 2.3|   rain|2012|\n",
      "|2012-01-04|         20.3|    12.2|     5.6| 4.7|   rain|2012|\n",
      "|2012-01-05|          1.3|     8.9|     2.8| 6.1|   rain|2012|\n",
      "|2012-01-06|          2.5|     4.4|     2.2| 2.2|   rain|2012|\n",
      "|2012-01-07|          0.0|     7.2|     2.8| 2.3|   rain|2012|\n",
      "|2012-01-08|          0.0|    10.0|     2.8| 2.0|    sun|2012|\n",
      "|2012-01-09|          4.3|     9.4|     5.0| 3.4|   rain|2012|\n",
      "|2012-01-10|          1.0|     6.1|     0.6| 3.4|   rain|2012|\n",
      "|2012-01-11|          0.0|     6.1|    -1.1| 5.1|    sun|2012|\n",
      "|2012-01-12|          0.0|     6.1|    -1.7| 1.9|    sun|2012|\n",
      "|2012-01-13|          0.0|     5.0|    -2.8| 1.3|    sun|2012|\n",
      "|2012-01-14|          4.1|     4.4|     0.6| 5.3|   snow|2012|\n",
      "|2012-01-15|          5.3|     1.1|    -3.3| 3.2|   snow|2012|\n",
      "|2012-01-16|          2.5|     1.7|    -2.8| 5.0|   snow|2012|\n",
      "|2012-01-17|          8.1|     3.3|     0.0| 5.6|   snow|2012|\n",
      "|2012-01-18|         19.8|     0.0|    -2.8| 5.0|   snow|2012|\n",
      "|2012-01-19|         15.2|    -1.1|    -2.8| 1.6|   snow|2012|\n",
      "|2012-01-20|         13.5|     7.2|    -1.1| 2.3|   snow|2012|\n",
      "+----------+-------------+--------+--------+----+-------+----+\n",
      "only showing top 20 rows\n",
      "\n"
     ]
    }
   ],
   "source": [
    "weather_with_year.show()"
   ]
  },
  {
   "cell_type": "code",
   "execution_count": 55,
   "id": "267f8f16-c897-4b8b-b036-e645e103227c",
   "metadata": {},
   "outputs": [
    {
     "name": "stdout",
     "output_type": "stream",
     "text": [
      "+----+----------+\n",
      "|Year|Total_Days|\n",
      "+----+----------+\n",
      "|2012|       366|\n",
      "|2013|       365|\n",
      "|2014|       365|\n",
      "|2015|       365|\n",
      "+----+----------+\n",
      "\n"
     ]
    }
   ],
   "source": [
    "total_days_per_year.show()"
   ]
  },
  {
   "cell_type": "code",
   "execution_count": 56,
   "id": "7fef2ec2-220f-41c3-a19b-085838c7faeb",
   "metadata": {},
   "outputs": [
    {
     "name": "stdout",
     "output_type": "stream",
     "text": [
      "+----+----------+\n",
      "|Year|Rainy_Days|\n",
      "+----+----------+\n",
      "|2012|       177|\n",
      "|2013|       152|\n",
      "|2014|       150|\n",
      "|2015|       144|\n",
      "+----+----------+\n",
      "\n"
     ]
    }
   ],
   "source": [
    "rainy_days_per_year.show()"
   ]
  },
  {
   "cell_type": "code",
   "execution_count": 57,
   "id": "1562e1ab-59e9-4ec5-819e-dbaeb1b7c69d",
   "metadata": {},
   "outputs": [
    {
     "name": "stdout",
     "output_type": "stream",
     "text": [
      "+----+----------+----------+------------------------+\n",
      "|Year|Total_Days|Rainy_Days|Percentage_of_Rainy_Days|\n",
      "+----+----------+----------+------------------------+\n",
      "|2012|       366|       177|       48.36065573770492|\n",
      "|2013|       365|       152|       41.64383561643836|\n",
      "|2014|       365|       150|        41.0958904109589|\n",
      "|2015|       365|       144|       39.45205479452055|\n",
      "+----+----------+----------+------------------------+\n",
      "\n"
     ]
    }
   ],
   "source": [
    "result.show()"
   ]
  },
  {
   "cell_type": "code",
   "execution_count": null,
   "id": "9b99ebab-9abf-4d99-802a-619700860ea7",
   "metadata": {},
   "outputs": [],
   "source": []
  }
 ],
 "metadata": {
  "kernelspec": {
   "display_name": "Python 3 (ipykernel)",
   "language": "python",
   "name": "python3"
  },
  "language_info": {
   "codemirror_mode": {
    "name": "ipython",
    "version": 3
   },
   "file_extension": ".py",
   "mimetype": "text/x-python",
   "name": "python",
   "nbconvert_exporter": "python",
   "pygments_lexer": "ipython3",
   "version": "3.9.13"
  }
 },
 "nbformat": 4,
 "nbformat_minor": 5
}
